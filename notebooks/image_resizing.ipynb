{
 "cells": [
  {
   "cell_type": "code",
   "execution_count": 3,
   "metadata": {},
   "outputs": [],
   "source": [
    "# Brett O'Connor and Max Bonzulak\n",
    "# 5/14/22\n",
    "# CS 5787\n",
    "# Final Project Notebook"
   ]
  },
  {
   "cell_type": "code",
   "execution_count": 22,
   "metadata": {},
   "outputs": [],
   "source": [
    "from PIL import Image, ImageFilter\n",
    "import PIL\n",
    "import numpy as np\n",
    "import random\n",
    "from torchvision import transforms\n"
   ]
  },
  {
   "cell_type": "code",
   "execution_count": 14,
   "metadata": {},
   "outputs": [],
   "source": [
    "img_path = \"vegfru_apple.jpg\"\n",
    "new_img_path = \"100x100_vegfru_apple.jpg\"\n"
   ]
  },
  {
   "cell_type": "code",
   "execution_count": 15,
   "metadata": {},
   "outputs": [],
   "source": [
    "img_file = Image.open(img_path)"
   ]
  },
  {
   "cell_type": "code",
   "execution_count": 18,
   "metadata": {},
   "outputs": [],
   "source": [
    "curr_h, curr_w = img_file.size\n",
    "\n",
    "new_img = img_file.resize((100, 100), PIL.Image.ANTIALIAS)\n",
    "\n",
    "new_img.save(new_img_path)"
   ]
  },
  {
   "cell_type": "code",
   "execution_count": 19,
   "metadata": {},
   "outputs": [],
   "source": [
    "img_path2 = \"vegfru_apple2.jpg\"\n",
    "new_img_path2 = \"100x100_vegfru_apple2.jpg\"\n",
    "img_file2 = Image.open(img_path2)\n",
    "new_img2 = img_file2.resize((100, 100), PIL.Image.ANTIALIAS)\n",
    "\n",
    "new_img2.save(new_img_path2)\n"
   ]
  },
  {
   "cell_type": "code",
   "execution_count": 4,
   "metadata": {},
   "outputs": [],
   "source": [
    "normal_img = Image.open(\"fruit360_images/apple_0001.jpg\")"
   ]
  },
  {
   "cell_type": "code",
   "execution_count": 16,
   "metadata": {},
   "outputs": [],
   "source": [
    "noise = []\n",
    "for i in range(100 * 100):\n",
    "    noise.append((random.randint(0, 255), random.randint(0, 255), random.randint(0, 255),))\n",
    "\n",
    "noisy_img = Image.new(\"RGB\", size=(100, 100)) \n",
    "noisy_img.putdata(noise)"
   ]
  },
  {
   "cell_type": "code",
   "execution_count": 17,
   "metadata": {},
   "outputs": [],
   "source": [
    "noisy_img.show()"
   ]
  },
  {
   "cell_type": "code",
   "execution_count": 21,
   "metadata": {},
   "outputs": [],
   "source": [
    "# alpha is how strong the noise is overlayed\n",
    "alpha = 0.3\n",
    "normal_with_noise = Image.blend(normal_img, noisy_img, alpha) \n",
    "\n",
    "normal_with_noise.show()"
   ]
  },
  {
   "cell_type": "code",
   "execution_count": 23,
   "metadata": {},
   "outputs": [],
   "source": [
    "preprocess = transforms.Compose([\n",
    "    transforms.Resize(256),\n",
    "    transforms.CenterCrop(224),\n",
    "    transforms.ToTensor(),\n",
    "    transforms.Normalize(mean=[0.485, 0.456, 0.406], std=[0.229, 0.224, 0.225]),\n",
    "])\n",
    "\n",
    "test_tensor = preprocess(normal_img)"
   ]
  },
  {
   "cell_type": "code",
   "execution_count": null,
   "metadata": {},
   "outputs": [],
   "source": []
  }
 ],
 "metadata": {
  "interpreter": {
   "hash": "81794d4967e6c3204c66dcd87b604927b115b27c00565d3d43f05ba2f3a2cb0d"
  },
  "kernelspec": {
   "display_name": "Python 3.9.7 64-bit",
   "language": "python",
   "name": "python3"
  },
  "language_info": {
   "codemirror_mode": {
    "name": "ipython",
    "version": 3
   },
   "file_extension": ".py",
   "mimetype": "text/x-python",
   "name": "python",
   "nbconvert_exporter": "python",
   "pygments_lexer": "ipython3",
   "version": "3.9.7"
  },
  "orig_nbformat": 4
 },
 "nbformat": 4,
 "nbformat_minor": 2
}
