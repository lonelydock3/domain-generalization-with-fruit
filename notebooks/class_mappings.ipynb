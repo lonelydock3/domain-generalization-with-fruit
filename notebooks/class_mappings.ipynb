{
 "cells": [
  {
   "cell_type": "code",
   "execution_count": 123,
   "metadata": {},
   "outputs": [],
   "source": [
    "vegfru = \"Chinese_chestnut Dangshan_Pear Hami_melon almond annona_muricata apple apricotartocarpus_heterophyllus avocado banana bayberry bergamot_pear black_currant black_grape blood_orange blueberry breadfruit candied_date carambola cashew_nut cherry cherry_tomato citrus coconut crown_pear dekopon diospyros_lotus durian fig flat_peach gandaria ginseng_fruit golden_melon grape grape_white grapefruit green_apple green_dates guava hawthorn hazelnut hickory honey_dew_melon housi_pear juicy_peach jujube kiwi_fruit kumquat lemon lime litchi longan loquat macadamia mandarin_orange mango mangosteen munlberry muskmelon naseberry navel_orange nectarine netted_melon olive papaya passion_fruit pecans persimmon pineapple pistachio pitaya plum plum-leaf_crab pomegranate pomelo ponkan prune rambutan raspberry red_grape salak sand_pear sugar_orange sugarcane sweetsop syzygium_jambos trifoliate_orange walnuts wampee wax_apple winter_jujube yacon\"\n",
    "listVF = vegfru.split()\n",
    "# print(listVF)"
   ]
  },
  {
   "cell_type": "code",
   "execution_count": 124,
   "metadata": {},
   "outputs": [],
   "source": [
    "with open(\"./fruits360_classes.txt\",'r') as fruits360:\n",
    "    list360 = fruits360.read()\n",
    "list360 = list360.split(\"\\n\")\n",
    "newlist = []\n",
    "for idx, item in enumerate(list360):\n",
    "    if idx%2 == 0:\n",
    "        newlist.append(item)\n",
    "list36 = newlist\n",
    "# print(list36)"
   ]
  },
  {
   "cell_type": "code",
   "execution_count": 125,
   "metadata": {},
   "outputs": [
    {
     "name": "stdout",
     "output_type": "stream",
     "text": [
      "['apple', 'avocado', 'banana', 'black', 'blueberry', 'cherry', 'chestnut', 'dates', 'fig', 'flat', 'fruit', 'golden', 'grape', 'grapefruit', 'green', 'guava', 'hazelnut', 'kiwi', 'lemon', 'mango', 'melon', 'nectarine', 'nut', 'orange', 'papaya', 'passion', 'peach', 'pear', 'pineapple', 'plum', 'pomegranate', 'pomelo', 'rambutan', 'raspberry', 'red', 'salak', 'tomato', 'wax', 'white']\n"
     ]
    }
   ],
   "source": [
    "common36 = {}\n",
    "commonVF = {}\n",
    "for classification36 in list36:\n",
    "    for word36 in classification36.split():\n",
    "        for classificationVF in listVF:\n",
    "            for wordVF in classificationVF.split(\"_\"):\n",
    "                if wordVF.lower() == word36.lower():\n",
    "                    if word36.lower() not in common36:\n",
    "                        common36[word36.lower()] = [classification36]\n",
    "                    else:\n",
    "                        common36[word36.lower()].append(classification36)\n",
    "                    if word36.lower() not in commonVF:\n",
    "                        commonVF[wordVF.lower()] = [classificationVF]\n",
    "                    else:\n",
    "                        commonVF[wordVF.lower()].append(classificationVF)\n",
    "\n",
    "keys36 = list(common36.keys())\n",
    "keysVF = list(commonVF.keys())\n",
    "print(sorted(keys36))\n",
    "# print(keysVF)\n"
   ]
  },
  {
   "cell_type": "code",
   "execution_count": 126,
   "metadata": {},
   "outputs": [
    {
     "name": "stdout",
     "output_type": "stream",
     "text": [
      "{'Apple Braeburn': 'apple', 'Apple Crimson Snow': 'apple', 'Apple Golden 1': 'apple', 'Apple Golden 2': 'apple', 'Apple Golden 3': 'apple', 'Apple Granny Smith': 'apple', 'Apple Pink Lady': 'apple', 'Apple Red 1': 'apple', 'Apple Red 2': 'apple', 'Apple Red 3': 'apple', 'Apple Red Delicious': 'apple', 'Apple Red Yellow 1': 'apple', 'Apple Red Yellow 2': 'apple', 'Avocado': 'avocado', 'Avocado ripe': 'avocado', 'Banana': 'banana', 'Banana Lady Finger': 'banana', 'Banana Red': 'banana', 'Blueberry': 'blueberry', 'Cherry 1': 'cherry', 'Cherry 2': 'cherry', 'Cherry Rainier': 'cherry', 'Cherry Wax Black': 'cherry', 'Cherry Wax Red': 'cherry', 'Cherry Wax Yellow': 'cherry', 'Tomato Cherry Red': 'tomato', 'Chestnut': 'chestnut', 'Dates': 'dates', 'Fig': 'fig', 'Grapefruit Pink': 'grapefruit', 'Grapefruit White': 'grapefruit', 'Guava': 'guava', 'Hazelnut': 'hazelnut', 'Kiwi': 'kiwi', 'Lemon': 'lemon', 'Lemon Meyer': 'lemon', 'Mango': 'mango', 'Mango Red': 'mango', 'Melon Piel de Sapo': 'melon', 'Nectarine': 'nectarine', 'Nectarine Flat': 'nectarine', 'Nut Forest': 'nut', 'Nut Pecan': 'nut', 'Papaya': 'papaya', 'Passion Fruit': 'passion', 'Peach': 'peach', 'Peach 2': 'peach', 'Peach Flat': 'peach', 'Pear': 'pear', 'Pear 2': 'pear', 'Pear Abate': 'pear', 'Pear Forelle': 'pear', 'Pear Kaiser': 'pear', 'Pear Monster': 'pear', 'Pear Red': 'pear', 'Pear Stone': 'pear', 'Pear Williams': 'pear', 'Pineapple': 'pineapple', 'Pineapple Mini': 'pineapple', 'Plum': 'plum', 'Plum 2': 'plum', 'Plum 3': 'plum', 'Pomegranate': 'pomegranate', 'Pomelo Sweetie': 'pomelo', 'Rambutan': 'rambutan', 'Raspberry': 'raspberry', 'Salak': 'salak', 'Tomato 1': 'tomato', 'Tomato 2': 'tomato', 'Tomato 3': 'tomato', 'Tomato 4': 'tomato', 'Tomato Heart': 'tomato', 'Tomato Maroon': 'tomato', 'Tomato Yellow': 'tomato', 'Tomato not Ripened': 'tomato'}\n",
      "{'apple': 'apple', 'green_apple': 'apple', 'wax_apple': 'apple', 'avocado': 'avocado', 'banana': 'banana', 'blueberry': 'blueberry', 'cherry': 'cherry', 'cherry_tomato': 'tomato', 'Chinese_chestnut': 'chestnut', 'green_dates': 'dates', 'fig': 'fig', 'grapefruit': 'grapefruit', 'guava': 'guava', 'hazelnut': 'hazelnut', 'kiwi_fruit': 'kiwi', 'lemon': 'lemon', 'mango': 'mango', 'Hami_melon': 'melon', 'golden_melon': 'melon', 'honey_dew_melon': 'melon', 'netted_melon': 'melon', 'nectarine': 'nectarine', 'cashew_nut': 'nut', 'papaya': 'papaya', 'passion_fruit': 'passion', 'flat_peach': 'peach', 'juicy_peach': 'peach', 'Dangshan_Pear': 'pear', 'bergamot_pear': 'pear', 'crown_pear': 'pear', 'housi_pear': 'pear', 'sand_pear': 'pear', 'pineapple': 'pineapple', 'plum': 'plum', 'pomegranate': 'pomegranate', 'pomelo': 'pomelo', 'rambutan': 'rambutan', 'raspberry': 'raspberry', 'salak': 'salak'}\n"
     ]
    }
   ],
   "source": [
    "filtered36 = common36\n",
    "filteredVF = commonVF\n",
    "unwanted = [\"black\",\"flat\",\"fruit\",\"golden\",\"grape\",\"green\",\"orange\",\"red\",\"wax\",\"white\"]\n",
    "for key in unwanted:\n",
    "    filtered36.pop(key)\n",
    "    filteredVF.pop(key)\n",
    "# print(common36,commonVF,sep = \"\\n\")\n",
    "\n",
    "map36 = {}\n",
    "for newClass, keyList in filtered36.items():\n",
    "    for origClass in keyList:\n",
    "        map36[origClass] = newClass\n",
    "mapVF = {}\n",
    "for newClass, keyList in filteredVF.items():\n",
    "    for origClass in keyList:\n",
    "        mapVF[origClass] = newClass\n",
    "print(map36,mapVF,sep=\"\\n\")"
   ]
  }
 ],
 "metadata": {
  "interpreter": {
   "hash": "3bb694f73b1663dcca8796095adcc0a68aa4f9667468cb376598f9ee728691e3"
  },
  "kernelspec": {
   "display_name": "Python 3.9.10 ('base')",
   "language": "python",
   "name": "python3"
  },
  "language_info": {
   "codemirror_mode": {
    "name": "ipython",
    "version": 3
   },
   "file_extension": ".py",
   "mimetype": "text/x-python",
   "name": "python",
   "nbconvert_exporter": "python",
   "pygments_lexer": "ipython3",
   "version": "3.9.10"
  },
  "orig_nbformat": 4
 },
 "nbformat": 4,
 "nbformat_minor": 2
}
