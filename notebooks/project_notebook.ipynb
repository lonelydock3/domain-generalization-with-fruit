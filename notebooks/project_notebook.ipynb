{
 "cells": [
  {
   "cell_type": "code",
   "execution_count": 1,
   "metadata": {},
   "outputs": [],
   "source": [
    "# Brett O'Connor and Max Bonzulak\n",
    "# 5/14/22\n",
    "# CS 5787\n",
    "# Final Project Notebook\n"
   ]
  },
  {
   "cell_type": "code",
   "execution_count": 67,
   "metadata": {},
   "outputs": [],
   "source": [
    "import os \n",
    "from PIL import Image\n",
    "import PIL\n",
    "import matplotlib.pyplot as plt\n",
    "import pandas as pd\n",
    "import numpy as np\n",
    "import random"
   ]
  },
  {
   "cell_type": "markdown",
   "metadata": {},
   "source": [
    "**This edits the files.  Scroll down to the model part so you don't overwrite stuff.**"
   ]
  },
  {
   "cell_type": "code",
   "execution_count": 5,
   "metadata": {},
   "outputs": [],
   "source": [
    "vegfru_dict = {'apple': 'apple', 'green_apple': 'apple', 'wax_apple': 'apple', 'avocado': 'avocado', 'banana': 'banana', 'blueberry': 'blueberry', 'cherry': 'cherry', 'cherry_tomato': 'tomato', 'Chinese_chestnut': 'chestnut', 'green_dates': 'dates', 'fig': 'fig', 'grapefruit': 'grapefruit', 'guava': 'guava', 'hazelnut': 'hazelnut', 'kiwi_fruit': 'kiwi', 'lemon': 'lemon', 'mango': 'mango', 'Hami_melon': 'melon', 'golden_melon': 'melon', 'honey_dew_melon': 'melon', 'netted_melon': 'melon', 'nectarine': 'nectarine', 'cashew_nut': 'nut', 'papaya': 'papaya', 'passion_fruit': 'passion', 'flat_peach': 'peach', 'juicy_peach': 'peach', 'Dangshan_Pear': 'pear', 'bergamot_pear': 'pear', 'crown_pear': 'pear', 'housi_pear': 'pear', 'sand_pear': 'pear', 'pineapple': 'pineapple', 'plum': 'plum', 'pomegranate': 'pomegranate', 'pomelo': 'pomelo', 'rambutan': 'rambutan', 'raspberry': 'raspberry', 'salak': 'salak'}"
   ]
  },
  {
   "cell_type": "code",
   "execution_count": 6,
   "metadata": {},
   "outputs": [],
   "source": [
    "vegfru_keys = vegfru_dict.keys()\n",
    "\n",
    "vegfru_goal = \"vegfru_images/\"\n",
    "fruit360_goal = \"fruit360_images/\"\n",
    "\n",
    "# print(os.listdir(\"fru92_images\"))\n",
    "\n",
    "# for loop to iterate thru each folder in fru92, for a master class we are gonna count the number of images in that master class\n",
    "\n",
    "vegfru_counters = {}\n",
    "for folder in os.listdir(\"fru92_images\"):\n",
    "    if (folder in vegfru_keys):\n",
    "        vegfru_counters[vegfru_dict[folder]] = 0\n",
    "\n",
    "for folder in os.listdir(\"fru92_images\"):\n",
    "    flag = False \n",
    "    if (folder in vegfru_keys):\n",
    "        flag = True\n",
    "        for img in os.listdir(\"fru92_images/\" + folder):\n",
    "            new_name = vegfru_dict[folder] \n",
    "            new_name += \"_\" + str(vegfru_counters[vegfru_dict[folder]]).zfill(4) + \".jpg\"\n",
    "            vegfru_counters[vegfru_dict[folder]] += 1\n",
    "\n",
    "            # print(vegfru_goal + new_name)\n",
    "\n",
    "            # print(folder)\n",
    "\n",
    "            # img_file = Image.open(\"fru92_images/\" + folder + \"/\" + img)\n",
    "\n",
    "            # new_img = img_file.resize((100, 100), PIL.Image.ANTIALIAS)\n",
    "\n",
    "            # try:\n",
    "            #     new_img.save(vegfru_goal + new_name)\n",
    "            # except:\n",
    "            #     continue\n",
    "            # break\n",
    "    # if flag: \n",
    "    #     break\n"
   ]
  },
  {
   "cell_type": "code",
   "execution_count": 7,
   "metadata": {},
   "outputs": [],
   "source": [
    "fruit360_dict = {'Apple Braeburn': 'apple', 'Apple Crimson Snow': 'apple', 'Apple Golden 1': 'apple', 'Apple Golden 2': 'apple', 'Apple Golden 3': 'apple', 'Apple Granny Smith': 'apple', 'Apple Pink Lady': 'apple', 'Apple Red 1': 'apple', 'Apple Red 2': 'apple', 'Apple Red 3': 'apple', 'Apple Red Delicious': 'apple', 'Apple Red Yellow 1': 'apple', 'Apple Red Yellow 2': 'apple', 'Avocado': 'avocado', 'Avocado ripe': 'avocado', 'Banana': 'banana', 'Banana Lady Finger': 'banana', 'Banana Red': 'banana', 'Blueberry': 'blueberry', 'Cherry 1': 'cherry', 'Cherry 2': 'cherry', 'Cherry Rainier': 'cherry', 'Cherry Wax Black': 'cherry', 'Cherry Wax Red': 'cherry', 'Cherry Wax Yellow': 'cherry', 'Tomato Cherry Red': 'tomato', 'Chestnut': 'chestnut', 'Dates': 'dates', 'Fig': 'fig', 'Grapefruit Pink': 'grapefruit', 'Grapefruit White': 'grapefruit', 'Guava': 'guava', 'Hazelnut': 'hazelnut', 'Kiwi': 'kiwi', 'Lemon': 'lemon', 'Lemon Meyer': 'lemon', 'Mango': 'mango', 'Mango Red': 'mango', 'Melon Piel de Sapo': 'melon', 'Nectarine': 'nectarine', 'Nectarine Flat': 'nectarine', 'Nut Forest': 'nut', 'Nut Pecan': 'nut', 'Papaya': 'papaya', 'Passion Fruit': 'passion', 'Peach': 'peach', 'Peach 2': 'peach', 'Peach Flat': 'peach', 'Pear': 'pear', 'Pear 2': 'pear', 'Pear Abate': 'pear', 'Pear Forelle': 'pear', 'Pear Kaiser': 'pear', 'Pear Monster': 'pear', 'Pear Red': 'pear', 'Pear Stone': 'pear', 'Pear Williams': 'pear', 'Pineapple': 'pineapple', 'Pineapple Mini': 'pineapple', 'Plum': 'plum', 'Plum 2': 'plum', 'Plum 3': 'plum', 'Pomegranate': 'pomegranate', 'Pomelo Sweetie': 'pomelo', 'Rambutan': 'rambutan', 'Raspberry': 'raspberry', 'Salak': 'salak', 'Tomato 1': 'tomato', 'Tomato 2': 'tomato', 'Tomato 3': 'tomato', 'Tomato 4': 'tomato', 'Tomato Heart': 'tomato', 'Tomato Maroon': 'tomato', 'Tomato Yellow': 'tomato', 'Tomato not Ripened': 'tomato'}"
   ]
  },
  {
   "cell_type": "code",
   "execution_count": 53,
   "metadata": {},
   "outputs": [],
   "source": [
    "fruit360_keys = fruit360_dict.keys()\n",
    "\n",
    "fruit360_counters = {}\n",
    "for folder in os.listdir(\"fruits-360/Training\"):\n",
    "    if (folder in fruit360_keys):\n",
    "        fruit360_counters[fruit360_dict[folder]] = 0\n",
    "        # print(folder)\n",
    "\n",
    "for folder in os.listdir(\"fruits-360/Training\"):\n",
    "    flag = False \n",
    "    if (folder in fruit360_keys):\n",
    "        flag = True\n",
    "        for img in os.listdir(\"fruits-360/Training/\" + folder):\n",
    "            new_name = fruit360_dict[folder] \n",
    "            new_name += \"_\" + str(fruit360_counters[fruit360_dict[folder]]).zfill(4) + \".jpg\"\n",
    "            fruit360_counters[fruit360_dict[folder]] += 1\n",
    "\n",
    "            # print(fruit360_goal + new_name)\n",
    "\n",
    "            # print(folder)\n",
    "\n",
    "            # img_file = Image.open(\"fruits-360/Training/\" + folder + \"/\" + img)\n",
    "\n",
    "            # # new_img = img_file.resize((100, 100), PIL.Image.ANTIALIAS)\n",
    "\n",
    "            # try:\n",
    "            #     img_file.save(fruit360_goal + new_name)\n",
    "            # except:\n",
    "            #     continue\n",
    "    #         break\n",
    "    # if flag: \n",
    "    #     break\n"
   ]
  },
  {
   "cell_type": "code",
   "execution_count": 470,
   "metadata": {},
   "outputs": [
    {
     "data": {
      "image/png": "[encoded data removed]",
      "text/plain": [
       "<Figure size 432x288 with 1 Axes>"
      ]
     },
     "metadata": {
      "needs_background": "light"
     },
     "output_type": "display_data"
    },
    {
     "name": "stdout",
     "output_type": "stream",
     "text": [
      "dict_keys(['apple', 'avocado', 'banana', 'pear', 'blueberry', 'nut', 'cherry', 'tomato', 'chestnut', 'fig', 'peach', 'melon', 'grapefruit', 'dates', 'guava', 'hazelnut', 'kiwi', 'lemon', 'mango', 'nectarine', 'papaya', 'passion', 'pineapple', 'plum', 'pomegranate', 'pomelo', 'rambutan', 'raspberry', 'salak'])\n"
     ]
    }
   ],
   "source": [
    "# vegfru histogram\n",
    "vf = plt.figure()\n",
    "plt.bar(vegfru_counters.keys(), vegfru_counters.values(), tick_label=\"\")\n",
    "plt.title(\"Vegfru Class Distribution\")\n",
    "plt.ylabel(\"Frequency\")\n",
    "plt.show()\n",
    "print(vegfru_counters.keys())"
   ]
  },
  {
   "cell_type": "code",
   "execution_count": 469,
   "metadata": {},
   "outputs": [
    {
     "data": {
      "image/png": "[encoded data removed]",
      "text/plain": [
       "<Figure size 432x288 with 1 Axes>"
      ]
     },
     "metadata": {
      "needs_background": "light"
     },
     "output_type": "display_data"
    },
    {
     "name": "stdout",
     "output_type": "stream",
     "text": [
      "dict_keys(['apple', 'avocado', 'banana', 'blueberry', 'cherry', 'chestnut', 'dates', 'fig', 'grapefruit', 'guava', 'hazelnut', 'kiwi', 'lemon', 'mango', 'melon', 'nectarine', 'nut', 'papaya', 'passion', 'peach', 'pear', 'pineapple', 'plum', 'pomegranate', 'pomelo', 'rambutan', 'raspberry', 'salak', 'tomato'])\n",
      "6404\n",
      "3444\n",
      "5037\n",
      "5103\n"
     ]
    }
   ],
   "source": [
    "# fruit360 histogram\n",
    "f360 = plt.figure()\n",
    "plt.bar(fruit360_counters.keys(), fruit360_counters.values(), tick_label=\"\")\n",
    "plt.title(\"Fruit360 Initial Class Distribution\")\n",
    "plt.ylabel(\"Frequency\")\n",
    "plt.show()\n",
    "print(fruit360_counters.keys())\n",
    "print(fruit360_counters[\"apple\"])\n",
    "print(fruit360_counters[\"cherry\"])\n",
    "print(fruit360_counters[\"pear\"])\n",
    "print(fruit360_counters[\"tomato\"])"
   ]
  },
  {
   "cell_type": "code",
   "execution_count": 55,
   "metadata": {},
   "outputs": [],
   "source": [
    "for img in os.listdir(\"fruit360_images\"):\n",
    "    class_type, img_number = img.split('_')\n",
    "    img_num = int(img_number.split('.')[0])\n",
    "    # print(img_num)\n",
    "    if class_type == \"apple\":\n",
    "        if img_num % 2 == 0 or img_num % 9 == 0 or img_num % 11 == 0 or img_num % 7 == 0 or img_num % 13 == 0:\n",
    "            # print('delete')\n",
    "            os.remove(\"fruit360_images/\" + img)\n",
    "        \n",
    "    elif class_type == \"cherry\":\n",
    "        if img_num % 3 == 0 or img_num % 11 == 0 or img_num % 13 == 0 or img_num % 14 == 0:\n",
    "            # print('delete')\n",
    "            os.remove(\"fruit360_images/\" + img)\n",
    "\n",
    "    elif class_type == \"pear\":\n",
    "        if img_num % 2 == 0 or img_num % 9 == 0 or img_num % 11 == 0 or img_num % 13 == 0:\n",
    "            # print('delete')\n",
    "            os.remove(\"fruit360_images/\" + img)\n",
    "\n",
    "    elif class_type == \"tomato\":\n",
    "        if img_num % 2 == 0 or img_num % 9 == 0 or img_num % 11 == 0 or img_num % 13 == 0:\n",
    "            # print('delete')\n",
    "            os.remove(\"fruit360_images/\" + img)\n",
    "\n",
    "\n",
    "    \n"
   ]
  },
  {
   "cell_type": "code",
   "execution_count": 61,
   "metadata": {},
   "outputs": [
    {
     "name": "stdout",
     "output_type": "stream",
     "text": [
      "{'apple': 2047, 'avocado': 918, 'banana': 1430, 'blueberry': 462, 'cherry': 1789, 'chestnut': 450, 'dates': 490, 'fig': 702, 'grapefruit': 982, 'guava': 490, 'hazelnut': 464, 'kiwi': 466, 'lemon': 982, 'mango': 916, 'melon': 738, 'nectarine': 972, 'nut': 1188, 'papaya': 492, 'passion': 490, 'peach': 1722, 'pear': 1878, 'pineapple': 983, 'plum': 1767, 'pomegranate': 492, 'pomelo': 450, 'rambutan': 492, 'raspberry': 490, 'salak': 490, 'tomato': 1904}\n"
     ]
    }
   ],
   "source": [
    "new_fruit360_counters = {}\n",
    "for img in os.listdir(\"fruit360_images\"):\n",
    "    class_type, img_number = img.split('_')\n",
    "    if class_type not in new_fruit360_counters: \n",
    "        new_fruit360_counters[class_type] = 0\n",
    "\n",
    "    new_fruit360_counters[class_type] += 1\n"
   ]
  },
  {
   "cell_type": "code",
   "execution_count": 468,
   "metadata": {},
   "outputs": [
    {
     "data": {
      "image/png": "[encoded data removed]",
      "text/plain": [
       "<Figure size 432x288 with 1 Axes>"
      ]
     },
     "metadata": {
      "needs_background": "light"
     },
     "output_type": "display_data"
    },
    {
     "name": "stdout",
     "output_type": "stream",
     "text": [
      "dict_keys(['apple', 'avocado', 'banana', 'blueberry', 'cherry', 'chestnut', 'dates', 'fig', 'grapefruit', 'guava', 'hazelnut', 'kiwi', 'lemon', 'mango', 'melon', 'nectarine', 'nut', 'papaya', 'passion', 'peach', 'pear', 'pineapple', 'plum', 'pomegranate', 'pomelo', 'rambutan', 'raspberry', 'salak', 'tomato'])\n"
     ]
    }
   ],
   "source": [
    "# fruit360 histogram\n",
    "f360_2 = plt.figure()\n",
    "plt.bar(new_fruit360_counters.keys(), new_fruit360_counters.values(), tick_label=\"\")\n",
    "plt.title(\"Fruit360 Final Class Distribution\")\n",
    "plt.ylabel(\"Frequency\")\n",
    "plt.show()\n",
    "print(new_fruit360_counters.keys())\n"
   ]
  },
  {
   "cell_type": "code",
   "execution_count": 86,
   "metadata": {},
   "outputs": [],
   "source": [
    "large_fruit360_folder = \"fruit360_images/\"\n",
    "large_vegfru_folder = \"vegfru_images/\"\n",
    "\n",
    "fruit360_train_folder = \"fruit360_train/\"\n",
    "fruit360_test_folder = \"fruit360_test/\"\n",
    "fruit360_validation_folder = \"fruit360_validation/\"\n",
    "\n",
    "vegfru_test_folder = \"vegfru_test/\"\n",
    "\n",
    "large_fruit360_file_names = []\n",
    "large_vegfru_file_names = []\n",
    "\n",
    "fruit360_train_file_names = []\n",
    "fruit360_test_file_names = []\n",
    "fruit360_validation_file_names = []\n",
    "\n",
    "vegfru_test_file_names = []\n",
    "\n",
    "shuffled_large_fruit360_file_names = []\n",
    "shuffled_large_vegfru_file_names = []\n",
    "\n",
    "for img in os.listdir(large_fruit360_folder):\n",
    "    large_fruit360_file_names.append(large_fruit360_folder + img)\n",
    "\n",
    "for img in os.listdir(large_vegfru_folder):\n",
    "    large_vegfru_file_names.append(large_vegfru_folder + img)\n",
    "\n"
   ]
  },
  {
   "cell_type": "code",
   "execution_count": 140,
   "metadata": {},
   "outputs": [],
   "source": [
    "fruit360_train_small_folder = \"fruit360_train_small/\"\n",
    "augmented_fruit360_train_small_folder = \"augmented_fruit360_train_small/\""
   ]
  },
  {
   "cell_type": "code",
   "execution_count": 87,
   "metadata": {},
   "outputs": [],
   "source": [
    "shuffled_large_fruit360_file_names = random.sample(large_fruit360_file_names, len(large_fruit360_file_names))\n",
    "shuffled_large_vegfru_file_names = random.sample(large_vegfru_file_names, len(large_vegfru_file_names))\n"
   ]
  },
  {
   "cell_type": "code",
   "execution_count": 88,
   "metadata": {},
   "outputs": [],
   "source": [
    "# training --> 60%\n",
    "# test --> 20%\n",
    "# validation --> 20%\n",
    "\n",
    "# vegfru test --> 20%\n",
    "\n",
    "cut_fruit360_train = int(len(shuffled_large_fruit360_file_names) * 0.6)\n",
    "cut_fruit360_test = int(len(shuffled_large_fruit360_file_names) * 0.2)\n",
    "cut_fruit360_validation = int(len(shuffled_large_fruit360_file_names) * 0.2)\n",
    "\n",
    "cut_vegfru = int(len(shuffled_large_vegfru_file_names) * 0.20)\n"
   ]
  },
  {
   "cell_type": "code",
   "execution_count": 89,
   "metadata": {},
   "outputs": [
    {
     "name": "stdout",
     "output_type": "stream",
     "text": [
      "16281\n",
      "5427\n",
      "5427\n",
      "6261\n"
     ]
    }
   ],
   "source": [
    "print(cut_fruit360_train)\n",
    "print(cut_fruit360_test)\n",
    "print(cut_fruit360_validation)\n",
    "\n",
    "print(cut_vegfru)\n"
   ]
  },
  {
   "cell_type": "code",
   "execution_count": 91,
   "metadata": {},
   "outputs": [],
   "source": [
    "fruit360_train_file_names = shuffled_large_fruit360_file_names[0:cut_fruit360_train]\n",
    "fruit360_test_file_names = shuffled_large_fruit360_file_names[cut_fruit360_train:cut_fruit360_test + cut_fruit360_train]\n",
    "fruit360_validation_file_names = shuffled_large_fruit360_file_names[cut_fruit360_train + cut_fruit360_test:cut_fruit360_validation + cut_fruit360_test + cut_fruit360_train]\n",
    "\n",
    "vegfru_test_file_names = shuffled_large_vegfru_file_names[0:cut_vegfru]"
   ]
  },
  {
   "cell_type": "code",
   "execution_count": 137,
   "metadata": {},
   "outputs": [
    {
     "name": "stdout",
     "output_type": "stream",
     "text": [
      "4070\n"
     ]
    }
   ],
   "source": [
    "small_training_cut = int(len(fruit360_train_file_names) * 0.25)\n",
    "print(small_training_cut)"
   ]
  },
  {
   "cell_type": "code",
   "execution_count": 138,
   "metadata": {},
   "outputs": [],
   "source": [
    "fruit360_train_small_file_names = fruit360_train_file_names[0:small_training_cut]"
   ]
  },
  {
   "cell_type": "code",
   "execution_count": 96,
   "metadata": {},
   "outputs": [
    {
     "name": "stdout",
     "output_type": "stream",
     "text": [
      "16281\n",
      "5427\n",
      "5427\n",
      "6261\n"
     ]
    }
   ],
   "source": [
    "print(len(fruit360_train_file_names))\n",
    "print(len(fruit360_test_file_names))\n",
    "# print(fruit360_test_file_names)\n",
    "print(len(fruit360_validation_file_names))\n",
    "# print(fruit360_validation_file_names)\n",
    "\n",
    "print(len(vegfru_test_file_names))"
   ]
  },
  {
   "cell_type": "code",
   "execution_count": 107,
   "metadata": {},
   "outputs": [],
   "source": [
    "for name in fruit360_train_file_names:\n",
    "    # print(name.split('/'))\n",
    "    img_name = name.split('/')[1]\n",
    "    new_name = fruit360_train_folder + img_name\n",
    "    # print(new_name)\n",
    "    img_file = Image.open(name)\n",
    "    img_file.save(new_name)\n",
    "for name in fruit360_test_file_names:\n",
    "    # print(name.split('/'))\n",
    "    img_name = name.split('/')[1]\n",
    "    new_name = fruit360_test_folder + img_name\n",
    "    # print(new_name)\n",
    "    img_file = Image.open(name)\n",
    "    img_file.save(new_name)\n",
    "for name in fruit360_validation_file_names:\n",
    "    # print(name.split('/'))\n",
    "    img_name = name.split('/')[1]\n",
    "    new_name = fruit360_validation_folder + img_name\n",
    "    # print(new_name)\n",
    "    img_file = Image.open(name)\n",
    "    img_file.save(new_name)\n",
    "\n",
    "for name in vegfru_test_file_names:\n",
    "    # print(name.split('/'))\n",
    "    img_name = name.split('/')[1]\n",
    "    new_name = vegfru_test_folder + img_name\n",
    "    # print(new_name)\n",
    "    try:\n",
    "        img_file = Image.open(name)\n",
    "        img_file.save(new_name)\n",
    "    except:\n",
    "        continue\n"
   ]
  },
  {
   "cell_type": "code",
   "execution_count": 143,
   "metadata": {},
   "outputs": [],
   "source": [
    "for name in fruit360_train_small_file_names:\n",
    "    # print(name.split('/'))\n",
    "    img_name = name.split('/')[1]\n",
    "    new_name = fruit360_train_small_folder + img_name\n",
    "    # print(new_name)\n",
    "    img_file = Image.open(name)\n",
    "    img_file.save(new_name)\n"
   ]
  },
  {
   "cell_type": "code",
   "execution_count": 110,
   "metadata": {},
   "outputs": [],
   "source": [
    "# need to augment the training, test, validation of the fruit360\n",
    "augmented_fruit360_train_folder = \"augmented_fruit360_train/\"\n",
    "augmented_fruit360_test_folder = \"augmented_fruit360_test/\"\n",
    "augmented_fruit360_validation_folder = \"augmented_fruit360_validation/\"\n",
    "\n",
    "# noise image\n",
    "# noise = []\n",
    "# for i in range(100 * 100):\n",
    "#     noise.append((random.randint(0, 255), random.randint(0, 255), random.randint(0, 255),))\n",
    "\n",
    "# noisy_img = Image.new(\"RGB\", size=(100, 100)) \n",
    "# noisy_img.putdata(noise)\n"
   ]
  },
  {
   "cell_type": "code",
   "execution_count": 112,
   "metadata": {},
   "outputs": [],
   "source": [
    "# strength of noise\n",
    "alpha = 0.3\n",
    "\n",
    "for img in os.listdir(fruit360_train_folder):\n",
    "    normal_img = Image.open(fruit360_train_folder + img)\n",
    "\n",
    "    noise = []\n",
    "    for i in range(100 * 100):\n",
    "        noise.append((random.randint(0, 255), random.randint(0, 255), random.randint(0, 255),))\n",
    "    \n",
    "    noisy_img = Image.new(\"RGB\", size=(100, 100)) \n",
    "    noisy_img.putdata(noise)\n",
    "\n",
    "    img_with_noise = Image.blend(normal_img, noisy_img, alpha) \n",
    "\n",
    "    img_with_noise.save(augmented_fruit360_train_folder + img)\n"
   ]
  },
  {
   "cell_type": "code",
   "execution_count": 113,
   "metadata": {},
   "outputs": [],
   "source": [
    "for img in os.listdir(fruit360_test_folder):\n",
    "    normal_img = Image.open(fruit360_test_folder + img)\n",
    "\n",
    "    noise = []\n",
    "    for i in range(100 * 100):\n",
    "        noise.append((random.randint(0, 255), random.randint(0, 255), random.randint(0, 255),))\n",
    "    \n",
    "    noisy_img = Image.new(\"RGB\", size=(100, 100)) \n",
    "    noisy_img.putdata(noise)\n",
    "\n",
    "    img_with_noise = Image.blend(normal_img, noisy_img, alpha) \n",
    "\n",
    "    img_with_noise.save(augmented_fruit360_test_folder + img)\n"
   ]
  },
  {
   "cell_type": "code",
   "execution_count": 114,
   "metadata": {},
   "outputs": [],
   "source": [
    "for img in os.listdir(fruit360_validation_folder):\n",
    "    normal_img = Image.open(fruit360_validation_folder + img)\n",
    "\n",
    "    noise = []\n",
    "    for i in range(100 * 100):\n",
    "        noise.append((random.randint(0, 255), random.randint(0, 255), random.randint(0, 255),))\n",
    "    \n",
    "    noisy_img = Image.new(\"RGB\", size=(100, 100)) \n",
    "    noisy_img.putdata(noise)\n",
    "\n",
    "    img_with_noise = Image.blend(normal_img, noisy_img, alpha) \n",
    "\n",
    "    img_with_noise.save(augmented_fruit360_validation_folder + img)\n"
   ]
  },
  {
   "cell_type": "code",
   "execution_count": 144,
   "metadata": {},
   "outputs": [],
   "source": [
    "for img in os.listdir(fruit360_train_small_folder):\n",
    "    normal_img = Image.open(fruit360_train_small_folder + img)\n",
    "\n",
    "    noise = []\n",
    "    for i in range(100 * 100):\n",
    "        noise.append((random.randint(0, 255), random.randint(0, 255), random.randint(0, 255),))\n",
    "    \n",
    "    noisy_img = Image.new(\"RGB\", size=(100, 100)) \n",
    "    noisy_img.putdata(noise)\n",
    "\n",
    "    img_with_noise = Image.blend(normal_img, noisy_img, alpha) \n",
    "\n",
    "    img_with_noise.save(augmented_fruit360_train_small_folder + img)\n"
   ]
  },
  {
   "cell_type": "markdown",
   "metadata": {},
   "source": [
    "**Here is where the model stuff begins.**"
   ]
  },
  {
   "cell_type": "code",
   "execution_count": 299,
   "metadata": {},
   "outputs": [],
   "source": [
    "import os\n",
    "import pandas as pd\n",
    "from torchvision.io import read_image\n",
    "import torch\n",
    "from torch.utils.data import Dataset\n",
    "from torchvision import transforms\n",
    "from torch.utils.data import DataLoader\n",
    "import torch.optim as optim\n",
    "import torch.nn\n",
    "import copy\n"
   ]
  },
  {
   "cell_type": "code",
   "execution_count": 340,
   "metadata": {},
   "outputs": [],
   "source": [
    "# need to make sure img_dir has \"/\" at end\n",
    "class CustomImageDataset(Dataset):\n",
    "    def __init__(self, img_dir, transform=None, target_transform=None):\n",
    "        self.img_labels = get_pairs(img_dir) # [(filename, label), ... ] <-- numpy array\n",
    "        self.img_dir = img_dir # folder with all the images \n",
    "        self.transform = transform # no change\n",
    "        self.target_transform = target_transform # no change\n",
    "\n",
    "    def __len__(self):\n",
    "        return len(self.img_labels) \n",
    "\n",
    "    def __getitem__(self, idx):\n",
    "        img_path = self.img_dir + self.img_labels[idx, 0] # os.path.join(self.img_dir, self.img_labels.iloc[idx, 0]) # this gets filename of the image \n",
    "        image = read_image(img_path)\n",
    "        image = image / 255\n",
    "        # image = Image.open(img_path)\n",
    "        # image = np.array(image)\n",
    "        label = self.img_labels[idx, 1] # self.img_labels.iloc[idx, 1] # this gets the respective label name of the image \n",
    "        if self.transform:\n",
    "            # image = self.transform(image.float())\n",
    "            image = self.transform(image)\n",
    "        if self.target_transform:\n",
    "            label = self.target_transform(label)\n",
    "        return image, label"
   ]
  },
  {
   "cell_type": "code",
   "execution_count": 343,
   "metadata": {},
   "outputs": [],
   "source": [
    "# todo\n",
    "# write a function to read in contents of a folder and get them into [(filename, label), ... ] <-- numpy array\n",
    "# print(vegfru_dict.values())\n",
    "labels_to_number = {}\n",
    "counter = 0\n",
    "for v in vegfru_dict.values():\n",
    "    if v not in labels_to_number:\n",
    "        labels_to_number[v] = counter\n",
    "        counter += 1\n",
    "\n",
    "number_to_labels = {v: k for k, v in labels_to_number.items()}\n",
    "\n",
    "\n",
    "def get_pairs(folder):\n",
    "    output = []\n",
    "\n",
    "    for img in os.listdir(folder):\n",
    "        class_name, img_number = img.split(\"_\")\n",
    "        img_number = img_number.split(\".\")[0]\n",
    "        img_number = int(img_number)\n",
    "\n",
    "        output.append([img, int(labels_to_number[class_name])])\n",
    "    \n",
    "    output = np.array(output)\n",
    "    \n",
    "    return output\n"
   ]
  },
  {
   "cell_type": "code",
   "execution_count": 451,
   "metadata": {},
   "outputs": [],
   "source": [
    "random_cropping_transform = transforms.Compose([\n",
    "    transforms.Resize(256),\n",
    "    # transforms.CenterCrop(224),\n",
    "    transforms.RandomCrop(224, padding=30, padding_mode='reflect'),\n",
    "    # transforms.ToTensor(),\n",
    "    # transforms.Normalize(mean=[0.485, 0.456, 0.406], std=[0.229, 0.224, 0.225]),\n",
    "])\n",
    "\n",
    "\n",
    "cropped_fruit360_train_pairs = CustomImageDataset(\"fruit360_train/\", random_cropping_transform) \n",
    "cropped_fruit360_train_small_pairs = CustomImageDataset(\"fruit360_train_small/\", random_cropping_transform) \n"
   ]
  },
  {
   "cell_type": "code",
   "execution_count": 472,
   "metadata": {},
   "outputs": [],
   "source": [
    "# print(cropped_fruit360_train_pairs.__getitem__(0)[0])\n",
    "\n",
    "\n",
    "# to_PIL = transforms.ToPILImage() \n",
    "# img = to_PIL(cropped_fruit360_train_pairs.__getitem__(0)[0])\n",
    "# img.save(\"example_images/fruit360_cropped_example.jpg\")\n",
    "# img.show()\n"
   ]
  },
  {
   "cell_type": "code",
   "execution_count": 344,
   "metadata": {},
   "outputs": [],
   "source": [
    "transform = transforms.Compose([\n",
    "    transforms.Resize(256),\n",
    "    transforms.CenterCrop(224),\n",
    "    # transforms.ToTensor(),\n",
    "    # transforms.Normalize(mean=[0.485, 0.456, 0.406], std=[0.229, 0.224, 0.225]),\n",
    "])\n",
    "\n",
    "fruit360_train_pairs = CustomImageDataset(\"fruit360_train/\", transform) \n",
    "fruit360_train_small_pairs = CustomImageDataset(\"fruit360_train_small/\", transform) \n",
    "augmented_fruit360_train_pairs = CustomImageDataset(\"augmented_fruit360_train/\", transform) \n",
    "augmented_fruit360_train_small_pairs = CustomImageDataset(\"augmented_fruit360_train_small/\", transform) \n",
    "\n",
    "fruit360_validation_pairs = CustomImageDataset(\"fruit360_validation/\", transform) \n",
    "\n",
    "fruit360_test_pairs = CustomImageDataset(\"fruit360_test/\", transform) \n",
    "vegfru_test_pairs = CustomImageDataset(\"vegfru_test/\", transform) "
   ]
  },
  {
   "cell_type": "code",
   "execution_count": 345,
   "metadata": {},
   "outputs": [
    {
     "name": "stdout",
     "output_type": "stream",
     "text": [
      "(tensor([[[0.9843, 0.9831, 0.9816,  ..., 1.0000, 1.0000, 1.0000],\n",
      "         [0.9831, 0.9821, 0.9811,  ..., 1.0000, 1.0000, 1.0000],\n",
      "         [0.9816, 0.9811, 0.9807,  ..., 1.0000, 1.0000, 1.0000],\n",
      "         ...,\n",
      "         [0.9922, 0.9922, 0.9922,  ..., 1.0000, 1.0000, 1.0000],\n",
      "         [0.9922, 0.9922, 0.9922,  ..., 1.0000, 1.0000, 1.0000],\n",
      "         [0.9921, 0.9922, 0.9922,  ..., 1.0000, 1.0000, 1.0000]],\n",
      "\n",
      "        [[1.0000, 1.0000, 1.0000,  ..., 0.9990, 0.9975, 0.9963],\n",
      "         [1.0000, 1.0000, 1.0000,  ..., 0.9989, 0.9974, 0.9961],\n",
      "         [1.0000, 1.0000, 1.0000,  ..., 0.9989, 0.9974, 0.9961],\n",
      "         ...,\n",
      "         [1.0000, 1.0000, 1.0000,  ..., 0.9922, 0.9922, 0.9922],\n",
      "         [1.0000, 1.0000, 1.0000,  ..., 0.9922, 0.9922, 0.9922],\n",
      "         [1.0000, 1.0000, 1.0000,  ..., 0.9922, 0.9922, 0.9922]],\n",
      "\n",
      "        [[0.9961, 0.9936, 0.9907,  ..., 1.0000, 1.0000, 1.0000],\n",
      "         [0.9936, 0.9917, 0.9897,  ..., 1.0000, 1.0000, 1.0000],\n",
      "         [0.9907, 0.9897, 0.9888,  ..., 1.0000, 1.0000, 1.0000],\n",
      "         ...,\n",
      "         [0.9961, 0.9961, 0.9961,  ..., 0.9961, 0.9961, 0.9960],\n",
      "         [0.9961, 0.9961, 0.9961,  ..., 0.9961, 0.9961, 0.9958],\n",
      "         [0.9961, 0.9961, 0.9961,  ..., 0.9960, 0.9958, 0.9952]]]), '0')\n"
     ]
    }
   ],
   "source": [
    "print(fruit360_train_pairs.__getitem__(0))"
   ]
  },
  {
   "cell_type": "code",
   "execution_count": 356,
   "metadata": {},
   "outputs": [
    {
     "name": "stdout",
     "output_type": "stream",
     "text": [
      "cuda:0\n"
     ]
    }
   ],
   "source": [
    "device = torch.device(\"cuda:0\" if torch.cuda.is_available() else \"cpu\")\n",
    "print(device)"
   ]
  },
  {
   "cell_type": "code",
   "execution_count": 358,
   "metadata": {},
   "outputs": [],
   "source": [
    "train_dataloader = DataLoader(fruit360_train_pairs, batch_size=64, shuffle=True)\n",
    "small_train_dataloader = DataLoader(fruit360_train_small_pairs, batch_size=64, shuffle=True)\n",
    "augmented_train_dataloader = DataLoader(augmented_fruit360_train_pairs, batch_size=64, shuffle=True)\n",
    "augmented_small_train_dataloader = DataLoader(augmented_fruit360_train_small_pairs, batch_size=64, shuffle=True)\n",
    "\n",
    "validation_dataloader = DataLoader(fruit360_validation_pairs, batch_size=64, shuffle=True)\n",
    "\n",
    "fruit360_test_dataloader = DataLoader(fruit360_test_pairs, batch_size=64, shuffle=True)\n",
    "vegfru_test_dataloader = DataLoader(vegfru_test_pairs, batch_size=64, shuffle=True)\n"
   ]
  },
  {
   "cell_type": "code",
   "execution_count": 455,
   "metadata": {},
   "outputs": [],
   "source": [
    "cropped_train_dataloader = DataLoader(cropped_fruit360_train_pairs, batch_size=64, shuffle=True)\n",
    "cropped_small_train_dataloader = DataLoader(cropped_fruit360_train_small_pairs, batch_size=64, shuffle=True)"
   ]
  },
  {
   "cell_type": "code",
   "execution_count": 359,
   "metadata": {},
   "outputs": [
    {
     "name": "stderr",
     "output_type": "stream",
     "text": [
      "Using cache found in C:\\Users\\oconn/.cache\\torch\\hub\\pytorch_vision_v0.10.0\n"
     ]
    }
   ],
   "source": [
    "model = torch.hub.load('pytorch/vision:v0.10.0', 'resnet18', pretrained=False).to(device)"
   ]
  },
  {
   "cell_type": "code",
   "execution_count": 293,
   "metadata": {},
   "outputs": [
    {
     "name": "stdout",
     "output_type": "stream",
     "text": [
      "ResNet(\n",
      "  (conv1): Conv2d(3, 64, kernel_size=(7, 7), stride=(2, 2), padding=(3, 3), bias=False)\n",
      "  (bn1): BatchNorm2d(64, eps=1e-05, momentum=0.1, affine=True, track_running_stats=True)\n",
      "  (relu): ReLU(inplace=True)\n",
      "  (maxpool): MaxPool2d(kernel_size=3, stride=2, padding=1, dilation=1, ceil_mode=False)\n",
      "  (layer1): Sequential(\n",
      "    (0): BasicBlock(\n",
      "      (conv1): Conv2d(64, 64, kernel_size=(3, 3), stride=(1, 1), padding=(1, 1), bias=False)\n",
      "      (bn1): BatchNorm2d(64, eps=1e-05, momentum=0.1, affine=True, track_running_stats=True)\n",
      "      (relu): ReLU(inplace=True)\n",
      "      (conv2): Conv2d(64, 64, kernel_size=(3, 3), stride=(1, 1), padding=(1, 1), bias=False)\n",
      "      (bn2): BatchNorm2d(64, eps=1e-05, momentum=0.1, affine=True, track_running_stats=True)\n",
      "    )\n",
      "    (1): BasicBlock(\n",
      "      (conv1): Conv2d(64, 64, kernel_size=(3, 3), stride=(1, 1), padding=(1, 1), bias=False)\n",
      "      (bn1): BatchNorm2d(64, eps=1e-05, momentum=0.1, affine=True, track_running_stats=True)\n",
      "      (relu): ReLU(inplace=True)\n",
      "      (conv2): Conv2d(64, 64, kernel_size=(3, 3), stride=(1, 1), padding=(1, 1), bias=False)\n",
      "      (bn2): BatchNorm2d(64, eps=1e-05, momentum=0.1, affine=True, track_running_stats=True)\n",
      "    )\n",
      "  )\n",
      "  (layer2): Sequential(\n",
      "    (0): BasicBlock(\n",
      "      (conv1): Conv2d(64, 128, kernel_size=(3, 3), stride=(2, 2), padding=(1, 1), bias=False)\n",
      "      (bn1): BatchNorm2d(128, eps=1e-05, momentum=0.1, affine=True, track_running_stats=True)\n",
      "      (relu): ReLU(inplace=True)\n",
      "      (conv2): Conv2d(128, 128, kernel_size=(3, 3), stride=(1, 1), padding=(1, 1), bias=False)\n",
      "      (bn2): BatchNorm2d(128, eps=1e-05, momentum=0.1, affine=True, track_running_stats=True)\n",
      "      (downsample): Sequential(\n",
      "        (0): Conv2d(64, 128, kernel_size=(1, 1), stride=(2, 2), bias=False)\n",
      "        (1): BatchNorm2d(128, eps=1e-05, momentum=0.1, affine=True, track_running_stats=True)\n",
      "      )\n",
      "    )\n",
      "    (1): BasicBlock(\n",
      "      (conv1): Conv2d(128, 128, kernel_size=(3, 3), stride=(1, 1), padding=(1, 1), bias=False)\n",
      "      (bn1): BatchNorm2d(128, eps=1e-05, momentum=0.1, affine=True, track_running_stats=True)\n",
      "      (relu): ReLU(inplace=True)\n",
      "      (conv2): Conv2d(128, 128, kernel_size=(3, 3), stride=(1, 1), padding=(1, 1), bias=False)\n",
      "      (bn2): BatchNorm2d(128, eps=1e-05, momentum=0.1, affine=True, track_running_stats=True)\n",
      "    )\n",
      "  )\n",
      "  (layer3): Sequential(\n",
      "    (0): BasicBlock(\n",
      "      (conv1): Conv2d(128, 256, kernel_size=(3, 3), stride=(2, 2), padding=(1, 1), bias=False)\n",
      "      (bn1): BatchNorm2d(256, eps=1e-05, momentum=0.1, affine=True, track_running_stats=True)\n",
      "      (relu): ReLU(inplace=True)\n",
      "      (conv2): Conv2d(256, 256, kernel_size=(3, 3), stride=(1, 1), padding=(1, 1), bias=False)\n",
      "      (bn2): BatchNorm2d(256, eps=1e-05, momentum=0.1, affine=True, track_running_stats=True)\n",
      "      (downsample): Sequential(\n",
      "        (0): Conv2d(128, 256, kernel_size=(1, 1), stride=(2, 2), bias=False)\n",
      "        (1): BatchNorm2d(256, eps=1e-05, momentum=0.1, affine=True, track_running_stats=True)\n",
      "      )\n",
      "    )\n",
      "    (1): BasicBlock(\n",
      "      (conv1): Conv2d(256, 256, kernel_size=(3, 3), stride=(1, 1), padding=(1, 1), bias=False)\n",
      "      (bn1): BatchNorm2d(256, eps=1e-05, momentum=0.1, affine=True, track_running_stats=True)\n",
      "      (relu): ReLU(inplace=True)\n",
      "      (conv2): Conv2d(256, 256, kernel_size=(3, 3), stride=(1, 1), padding=(1, 1), bias=False)\n",
      "      (bn2): BatchNorm2d(256, eps=1e-05, momentum=0.1, affine=True, track_running_stats=True)\n",
      "    )\n",
      "  )\n",
      "  (layer4): Sequential(\n",
      "    (0): BasicBlock(\n",
      "      (conv1): Conv2d(256, 512, kernel_size=(3, 3), stride=(2, 2), padding=(1, 1), bias=False)\n",
      "      (bn1): BatchNorm2d(512, eps=1e-05, momentum=0.1, affine=True, track_running_stats=True)\n",
      "      (relu): ReLU(inplace=True)\n",
      "      (conv2): Conv2d(512, 512, kernel_size=(3, 3), stride=(1, 1), padding=(1, 1), bias=False)\n",
      "      (bn2): BatchNorm2d(512, eps=1e-05, momentum=0.1, affine=True, track_running_stats=True)\n",
      "      (downsample): Sequential(\n",
      "        (0): Conv2d(256, 512, kernel_size=(1, 1), stride=(2, 2), bias=False)\n",
      "        (1): BatchNorm2d(512, eps=1e-05, momentum=0.1, affine=True, track_running_stats=True)\n",
      "      )\n",
      "    )\n",
      "    (1): BasicBlock(\n",
      "      (conv1): Conv2d(512, 512, kernel_size=(3, 3), stride=(1, 1), padding=(1, 1), bias=False)\n",
      "      (bn1): BatchNorm2d(512, eps=1e-05, momentum=0.1, affine=True, track_running_stats=True)\n",
      "      (relu): ReLU(inplace=True)\n",
      "      (conv2): Conv2d(512, 512, kernel_size=(3, 3), stride=(1, 1), padding=(1, 1), bias=False)\n",
      "      (bn2): BatchNorm2d(512, eps=1e-05, momentum=0.1, affine=True, track_running_stats=True)\n",
      "    )\n",
      "  )\n",
      "  (avgpool): AdaptiveAvgPool2d(output_size=(1, 1))\n",
      "  (fc): Linear(in_features=512, out_features=1000, bias=True)\n",
      ")\n",
      "Conv2d(3, 64, kernel_size=(7, 7), stride=(2, 2), padding=(3, 3), bias=False)\n",
      "BatchNorm2d(64, eps=1e-05, momentum=0.1, affine=True, track_running_stats=True)\n",
      "ReLU(inplace=True)\n",
      "MaxPool2d(kernel_size=3, stride=2, padding=1, dilation=1, ceil_mode=False)\n",
      "Sequential(\n",
      "  (0): BasicBlock(\n",
      "    (conv1): Conv2d(64, 64, kernel_size=(3, 3), stride=(1, 1), padding=(1, 1), bias=False)\n",
      "    (bn1): BatchNorm2d(64, eps=1e-05, momentum=0.1, affine=True, track_running_stats=True)\n",
      "    (relu): ReLU(inplace=True)\n",
      "    (conv2): Conv2d(64, 64, kernel_size=(3, 3), stride=(1, 1), padding=(1, 1), bias=False)\n",
      "    (bn2): BatchNorm2d(64, eps=1e-05, momentum=0.1, affine=True, track_running_stats=True)\n",
      "  )\n",
      "  (1): BasicBlock(\n",
      "    (conv1): Conv2d(64, 64, kernel_size=(3, 3), stride=(1, 1), padding=(1, 1), bias=False)\n",
      "    (bn1): BatchNorm2d(64, eps=1e-05, momentum=0.1, affine=True, track_running_stats=True)\n",
      "    (relu): ReLU(inplace=True)\n",
      "    (conv2): Conv2d(64, 64, kernel_size=(3, 3), stride=(1, 1), padding=(1, 1), bias=False)\n",
      "    (bn2): BatchNorm2d(64, eps=1e-05, momentum=0.1, affine=True, track_running_stats=True)\n",
      "  )\n",
      ")\n",
      "BasicBlock(\n",
      "  (conv1): Conv2d(64, 64, kernel_size=(3, 3), stride=(1, 1), padding=(1, 1), bias=False)\n",
      "  (bn1): BatchNorm2d(64, eps=1e-05, momentum=0.1, affine=True, track_running_stats=True)\n",
      "  (relu): ReLU(inplace=True)\n",
      "  (conv2): Conv2d(64, 64, kernel_size=(3, 3), stride=(1, 1), padding=(1, 1), bias=False)\n",
      "  (bn2): BatchNorm2d(64, eps=1e-05, momentum=0.1, affine=True, track_running_stats=True)\n",
      ")\n",
      "Conv2d(64, 64, kernel_size=(3, 3), stride=(1, 1), padding=(1, 1), bias=False)\n",
      "BatchNorm2d(64, eps=1e-05, momentum=0.1, affine=True, track_running_stats=True)\n",
      "ReLU(inplace=True)\n",
      "Conv2d(64, 64, kernel_size=(3, 3), stride=(1, 1), padding=(1, 1), bias=False)\n",
      "BatchNorm2d(64, eps=1e-05, momentum=0.1, affine=True, track_running_stats=True)\n",
      "BasicBlock(\n",
      "  (conv1): Conv2d(64, 64, kernel_size=(3, 3), stride=(1, 1), padding=(1, 1), bias=False)\n",
      "  (bn1): BatchNorm2d(64, eps=1e-05, momentum=0.1, affine=True, track_running_stats=True)\n",
      "  (relu): ReLU(inplace=True)\n",
      "  (conv2): Conv2d(64, 64, kernel_size=(3, 3), stride=(1, 1), padding=(1, 1), bias=False)\n",
      "  (bn2): BatchNorm2d(64, eps=1e-05, momentum=0.1, affine=True, track_running_stats=True)\n",
      ")\n",
      "Conv2d(64, 64, kernel_size=(3, 3), stride=(1, 1), padding=(1, 1), bias=False)\n",
      "BatchNorm2d(64, eps=1e-05, momentum=0.1, affine=True, track_running_stats=True)\n",
      "ReLU(inplace=True)\n",
      "Conv2d(64, 64, kernel_size=(3, 3), stride=(1, 1), padding=(1, 1), bias=False)\n",
      "BatchNorm2d(64, eps=1e-05, momentum=0.1, affine=True, track_running_stats=True)\n",
      "Sequential(\n",
      "  (0): BasicBlock(\n",
      "    (conv1): Conv2d(64, 128, kernel_size=(3, 3), stride=(2, 2), padding=(1, 1), bias=False)\n",
      "    (bn1): BatchNorm2d(128, eps=1e-05, momentum=0.1, affine=True, track_running_stats=True)\n",
      "    (relu): ReLU(inplace=True)\n",
      "    (conv2): Conv2d(128, 128, kernel_size=(3, 3), stride=(1, 1), padding=(1, 1), bias=False)\n",
      "    (bn2): BatchNorm2d(128, eps=1e-05, momentum=0.1, affine=True, track_running_stats=True)\n",
      "    (downsample): Sequential(\n",
      "      (0): Conv2d(64, 128, kernel_size=(1, 1), stride=(2, 2), bias=False)\n",
      "      (1): BatchNorm2d(128, eps=1e-05, momentum=0.1, affine=True, track_running_stats=True)\n",
      "    )\n",
      "  )\n",
      "  (1): BasicBlock(\n",
      "    (conv1): Conv2d(128, 128, kernel_size=(3, 3), stride=(1, 1), padding=(1, 1), bias=False)\n",
      "    (bn1): BatchNorm2d(128, eps=1e-05, momentum=0.1, affine=True, track_running_stats=True)\n",
      "    (relu): ReLU(inplace=True)\n",
      "    (conv2): Conv2d(128, 128, kernel_size=(3, 3), stride=(1, 1), padding=(1, 1), bias=False)\n",
      "    (bn2): BatchNorm2d(128, eps=1e-05, momentum=0.1, affine=True, track_running_stats=True)\n",
      "  )\n",
      ")\n",
      "BasicBlock(\n",
      "  (conv1): Conv2d(64, 128, kernel_size=(3, 3), stride=(2, 2), padding=(1, 1), bias=False)\n",
      "  (bn1): BatchNorm2d(128, eps=1e-05, momentum=0.1, affine=True, track_running_stats=True)\n",
      "  (relu): ReLU(inplace=True)\n",
      "  (conv2): Conv2d(128, 128, kernel_size=(3, 3), stride=(1, 1), padding=(1, 1), bias=False)\n",
      "  (bn2): BatchNorm2d(128, eps=1e-05, momentum=0.1, affine=True, track_running_stats=True)\n",
      "  (downsample): Sequential(\n",
      "    (0): Conv2d(64, 128, kernel_size=(1, 1), stride=(2, 2), bias=False)\n",
      "    (1): BatchNorm2d(128, eps=1e-05, momentum=0.1, affine=True, track_running_stats=True)\n",
      "  )\n",
      ")\n",
      "Conv2d(64, 128, kernel_size=(3, 3), stride=(2, 2), padding=(1, 1), bias=False)\n",
      "BatchNorm2d(128, eps=1e-05, momentum=0.1, affine=True, track_running_stats=True)\n",
      "ReLU(inplace=True)\n",
      "Conv2d(128, 128, kernel_size=(3, 3), stride=(1, 1), padding=(1, 1), bias=False)\n",
      "BatchNorm2d(128, eps=1e-05, momentum=0.1, affine=True, track_running_stats=True)\n",
      "Sequential(\n",
      "  (0): Conv2d(64, 128, kernel_size=(1, 1), stride=(2, 2), bias=False)\n",
      "  (1): BatchNorm2d(128, eps=1e-05, momentum=0.1, affine=True, track_running_stats=True)\n",
      ")\n",
      "Conv2d(64, 128, kernel_size=(1, 1), stride=(2, 2), bias=False)\n",
      "BatchNorm2d(128, eps=1e-05, momentum=0.1, affine=True, track_running_stats=True)\n",
      "BasicBlock(\n",
      "  (conv1): Conv2d(128, 128, kernel_size=(3, 3), stride=(1, 1), padding=(1, 1), bias=False)\n",
      "  (bn1): BatchNorm2d(128, eps=1e-05, momentum=0.1, affine=True, track_running_stats=True)\n",
      "  (relu): ReLU(inplace=True)\n",
      "  (conv2): Conv2d(128, 128, kernel_size=(3, 3), stride=(1, 1), padding=(1, 1), bias=False)\n",
      "  (bn2): BatchNorm2d(128, eps=1e-05, momentum=0.1, affine=True, track_running_stats=True)\n",
      ")\n",
      "Conv2d(128, 128, kernel_size=(3, 3), stride=(1, 1), padding=(1, 1), bias=False)\n",
      "BatchNorm2d(128, eps=1e-05, momentum=0.1, affine=True, track_running_stats=True)\n",
      "ReLU(inplace=True)\n",
      "Conv2d(128, 128, kernel_size=(3, 3), stride=(1, 1), padding=(1, 1), bias=False)\n",
      "BatchNorm2d(128, eps=1e-05, momentum=0.1, affine=True, track_running_stats=True)\n",
      "Sequential(\n",
      "  (0): BasicBlock(\n",
      "    (conv1): Conv2d(128, 256, kernel_size=(3, 3), stride=(2, 2), padding=(1, 1), bias=False)\n",
      "    (bn1): BatchNorm2d(256, eps=1e-05, momentum=0.1, affine=True, track_running_stats=True)\n",
      "    (relu): ReLU(inplace=True)\n",
      "    (conv2): Conv2d(256, 256, kernel_size=(3, 3), stride=(1, 1), padding=(1, 1), bias=False)\n",
      "    (bn2): BatchNorm2d(256, eps=1e-05, momentum=0.1, affine=True, track_running_stats=True)\n",
      "    (downsample): Sequential(\n",
      "      (0): Conv2d(128, 256, kernel_size=(1, 1), stride=(2, 2), bias=False)\n",
      "      (1): BatchNorm2d(256, eps=1e-05, momentum=0.1, affine=True, track_running_stats=True)\n",
      "    )\n",
      "  )\n",
      "  (1): BasicBlock(\n",
      "    (conv1): Conv2d(256, 256, kernel_size=(3, 3), stride=(1, 1), padding=(1, 1), bias=False)\n",
      "    (bn1): BatchNorm2d(256, eps=1e-05, momentum=0.1, affine=True, track_running_stats=True)\n",
      "    (relu): ReLU(inplace=True)\n",
      "    (conv2): Conv2d(256, 256, kernel_size=(3, 3), stride=(1, 1), padding=(1, 1), bias=False)\n",
      "    (bn2): BatchNorm2d(256, eps=1e-05, momentum=0.1, affine=True, track_running_stats=True)\n",
      "  )\n",
      ")\n",
      "BasicBlock(\n",
      "  (conv1): Conv2d(128, 256, kernel_size=(3, 3), stride=(2, 2), padding=(1, 1), bias=False)\n",
      "  (bn1): BatchNorm2d(256, eps=1e-05, momentum=0.1, affine=True, track_running_stats=True)\n",
      "  (relu): ReLU(inplace=True)\n",
      "  (conv2): Conv2d(256, 256, kernel_size=(3, 3), stride=(1, 1), padding=(1, 1), bias=False)\n",
      "  (bn2): BatchNorm2d(256, eps=1e-05, momentum=0.1, affine=True, track_running_stats=True)\n",
      "  (downsample): Sequential(\n",
      "    (0): Conv2d(128, 256, kernel_size=(1, 1), stride=(2, 2), bias=False)\n",
      "    (1): BatchNorm2d(256, eps=1e-05, momentum=0.1, affine=True, track_running_stats=True)\n",
      "  )\n",
      ")\n",
      "Conv2d(128, 256, kernel_size=(3, 3), stride=(2, 2), padding=(1, 1), bias=False)\n",
      "BatchNorm2d(256, eps=1e-05, momentum=0.1, affine=True, track_running_stats=True)\n",
      "ReLU(inplace=True)\n",
      "Conv2d(256, 256, kernel_size=(3, 3), stride=(1, 1), padding=(1, 1), bias=False)\n",
      "BatchNorm2d(256, eps=1e-05, momentum=0.1, affine=True, track_running_stats=True)\n",
      "Sequential(\n",
      "  (0): Conv2d(128, 256, kernel_size=(1, 1), stride=(2, 2), bias=False)\n",
      "  (1): BatchNorm2d(256, eps=1e-05, momentum=0.1, affine=True, track_running_stats=True)\n",
      ")\n",
      "Conv2d(128, 256, kernel_size=(1, 1), stride=(2, 2), bias=False)\n",
      "BatchNorm2d(256, eps=1e-05, momentum=0.1, affine=True, track_running_stats=True)\n",
      "BasicBlock(\n",
      "  (conv1): Conv2d(256, 256, kernel_size=(3, 3), stride=(1, 1), padding=(1, 1), bias=False)\n",
      "  (bn1): BatchNorm2d(256, eps=1e-05, momentum=0.1, affine=True, track_running_stats=True)\n",
      "  (relu): ReLU(inplace=True)\n",
      "  (conv2): Conv2d(256, 256, kernel_size=(3, 3), stride=(1, 1), padding=(1, 1), bias=False)\n",
      "  (bn2): BatchNorm2d(256, eps=1e-05, momentum=0.1, affine=True, track_running_stats=True)\n",
      ")\n",
      "Conv2d(256, 256, kernel_size=(3, 3), stride=(1, 1), padding=(1, 1), bias=False)\n",
      "BatchNorm2d(256, eps=1e-05, momentum=0.1, affine=True, track_running_stats=True)\n",
      "ReLU(inplace=True)\n",
      "Conv2d(256, 256, kernel_size=(3, 3), stride=(1, 1), padding=(1, 1), bias=False)\n",
      "BatchNorm2d(256, eps=1e-05, momentum=0.1, affine=True, track_running_stats=True)\n",
      "Sequential(\n",
      "  (0): BasicBlock(\n",
      "    (conv1): Conv2d(256, 512, kernel_size=(3, 3), stride=(2, 2), padding=(1, 1), bias=False)\n",
      "    (bn1): BatchNorm2d(512, eps=1e-05, momentum=0.1, affine=True, track_running_stats=True)\n",
      "    (relu): ReLU(inplace=True)\n",
      "    (conv2): Conv2d(512, 512, kernel_size=(3, 3), stride=(1, 1), padding=(1, 1), bias=False)\n",
      "    (bn2): BatchNorm2d(512, eps=1e-05, momentum=0.1, affine=True, track_running_stats=True)\n",
      "    (downsample): Sequential(\n",
      "      (0): Conv2d(256, 512, kernel_size=(1, 1), stride=(2, 2), bias=False)\n",
      "      (1): BatchNorm2d(512, eps=1e-05, momentum=0.1, affine=True, track_running_stats=True)\n",
      "    )\n",
      "  )\n",
      "  (1): BasicBlock(\n",
      "    (conv1): Conv2d(512, 512, kernel_size=(3, 3), stride=(1, 1), padding=(1, 1), bias=False)\n",
      "    (bn1): BatchNorm2d(512, eps=1e-05, momentum=0.1, affine=True, track_running_stats=True)\n",
      "    (relu): ReLU(inplace=True)\n",
      "    (conv2): Conv2d(512, 512, kernel_size=(3, 3), stride=(1, 1), padding=(1, 1), bias=False)\n",
      "    (bn2): BatchNorm2d(512, eps=1e-05, momentum=0.1, affine=True, track_running_stats=True)\n",
      "  )\n",
      ")\n",
      "BasicBlock(\n",
      "  (conv1): Conv2d(256, 512, kernel_size=(3, 3), stride=(2, 2), padding=(1, 1), bias=False)\n",
      "  (bn1): BatchNorm2d(512, eps=1e-05, momentum=0.1, affine=True, track_running_stats=True)\n",
      "  (relu): ReLU(inplace=True)\n",
      "  (conv2): Conv2d(512, 512, kernel_size=(3, 3), stride=(1, 1), padding=(1, 1), bias=False)\n",
      "  (bn2): BatchNorm2d(512, eps=1e-05, momentum=0.1, affine=True, track_running_stats=True)\n",
      "  (downsample): Sequential(\n",
      "    (0): Conv2d(256, 512, kernel_size=(1, 1), stride=(2, 2), bias=False)\n",
      "    (1): BatchNorm2d(512, eps=1e-05, momentum=0.1, affine=True, track_running_stats=True)\n",
      "  )\n",
      ")\n",
      "Conv2d(256, 512, kernel_size=(3, 3), stride=(2, 2), padding=(1, 1), bias=False)\n",
      "BatchNorm2d(512, eps=1e-05, momentum=0.1, affine=True, track_running_stats=True)\n",
      "ReLU(inplace=True)\n",
      "Conv2d(512, 512, kernel_size=(3, 3), stride=(1, 1), padding=(1, 1), bias=False)\n",
      "BatchNorm2d(512, eps=1e-05, momentum=0.1, affine=True, track_running_stats=True)\n",
      "Sequential(\n",
      "  (0): Conv2d(256, 512, kernel_size=(1, 1), stride=(2, 2), bias=False)\n",
      "  (1): BatchNorm2d(512, eps=1e-05, momentum=0.1, affine=True, track_running_stats=True)\n",
      ")\n",
      "Conv2d(256, 512, kernel_size=(1, 1), stride=(2, 2), bias=False)\n",
      "BatchNorm2d(512, eps=1e-05, momentum=0.1, affine=True, track_running_stats=True)\n",
      "BasicBlock(\n",
      "  (conv1): Conv2d(512, 512, kernel_size=(3, 3), stride=(1, 1), padding=(1, 1), bias=False)\n",
      "  (bn1): BatchNorm2d(512, eps=1e-05, momentum=0.1, affine=True, track_running_stats=True)\n",
      "  (relu): ReLU(inplace=True)\n",
      "  (conv2): Conv2d(512, 512, kernel_size=(3, 3), stride=(1, 1), padding=(1, 1), bias=False)\n",
      "  (bn2): BatchNorm2d(512, eps=1e-05, momentum=0.1, affine=True, track_running_stats=True)\n",
      ")\n",
      "Conv2d(512, 512, kernel_size=(3, 3), stride=(1, 1), padding=(1, 1), bias=False)\n",
      "BatchNorm2d(512, eps=1e-05, momentum=0.1, affine=True, track_running_stats=True)\n",
      "ReLU(inplace=True)\n",
      "Conv2d(512, 512, kernel_size=(3, 3), stride=(1, 1), padding=(1, 1), bias=False)\n",
      "BatchNorm2d(512, eps=1e-05, momentum=0.1, affine=True, track_running_stats=True)\n",
      "AdaptiveAvgPool2d(output_size=(1, 1))\n",
      "Linear(in_features=512, out_features=1000, bias=True)\n"
     ]
    }
   ],
   "source": [
    "for i in model.modules():\n",
    "    print(i)"
   ]
  },
  {
   "cell_type": "code",
   "execution_count": 361,
   "metadata": {},
   "outputs": [],
   "source": [
    "criterion = torch.nn.CrossEntropyLoss().to(device)\n",
    "optimizer = optim.SGD(model.parameters(), lr=0.001, momentum=0.9)"
   ]
  },
  {
   "cell_type": "code",
   "execution_count": 395,
   "metadata": {},
   "outputs": [],
   "source": [
    "def train(train_loader, num_epochs=75):\n",
    "    model.train()\n",
    "    losses = []\n",
    "    for i in range(num_epochs):\n",
    "        current_loss = 0.0\n",
    "        best_loss = np.inf\n",
    "        for idx, (data, labels) in enumerate(train_loader):\n",
    "            optimizer.zero_grad()\n",
    "            # print(data)\n",
    "\n",
    "            outputs = model(data.to(device))\n",
    "            # print(np.array(labels, dtype=int))\n",
    "            labels = np.array(labels, dtype=int)\n",
    "            loss = criterion(outputs, torch.Tensor(labels).long().to(device))\n",
    "            loss.backward()\n",
    "            optimizer.step()\n",
    "\n",
    "            current_loss += loss.item()\n",
    "        if current_loss < best_loss:\n",
    "            best_loss = current_loss\n",
    "            best_model_params = copy.deepcopy(model.state_dict())\n",
    "\n",
    "        losses.append(current_loss)\n",
    "        print(\"Epoch: \", i, \" | Loss: \", current_loss)\n",
    "    \n",
    "    return losses, best_model_params\n"
   ]
  },
  {
   "cell_type": "code",
   "execution_count": 396,
   "metadata": {},
   "outputs": [
    {
     "name": "stderr",
     "output_type": "stream",
     "text": [
      "Using cache found in C:\\Users\\oconn/.cache\\torch\\hub\\pytorch_vision_v0.10.0\n"
     ]
    },
    {
     "name": "stdout",
     "output_type": "stream",
     "text": [
      "Epoch:  0  | Loss:  480.1515422165394\n",
      "Epoch:  1  | Loss:  100.26479314267635\n",
      "Epoch:  2  | Loss:  52.05724837258458\n",
      "Epoch:  3  | Loss:  31.848848916590214\n",
      "Epoch:  4  | Loss:  22.236221147701144\n",
      "Epoch:  5  | Loss:  16.37476348504424\n",
      "Epoch:  6  | Loss:  13.831611611880362\n",
      "Epoch:  7  | Loss:  9.565101110376418\n",
      "Epoch:  8  | Loss:  7.64981348766014\n",
      "Epoch:  9  | Loss:  7.722354753874242\n",
      "Epoch:  10  | Loss:  5.134174168575555\n",
      "Epoch:  11  | Loss:  4.355248256353661\n",
      "Epoch:  12  | Loss:  4.271232245722786\n",
      "Epoch:  13  | Loss:  3.497129926690832\n",
      "Epoch:  14  | Loss:  3.2712892434792593\n",
      "Epoch:  15  | Loss:  2.272702672285959\n",
      "Epoch:  16  | Loss:  2.0352479564026\n",
      "Epoch:  17  | Loss:  2.8581514921970665\n",
      "Epoch:  18  | Loss:  4.163789673708379\n",
      "Epoch:  19  | Loss:  2.0228966909926385\n",
      "Epoch:  20  | Loss:  2.2075439824257046\n",
      "Epoch:  21  | Loss:  1.3609963827184401\n",
      "Epoch:  22  | Loss:  1.2250304121989757\n",
      "Epoch:  23  | Loss:  1.4876289825187996\n",
      "Epoch:  24  | Loss:  1.1877406882704236\n",
      "Epoch:  25  | Loss:  1.6262750493478961\n",
      "Epoch:  26  | Loss:  0.866520642710384\n",
      "Epoch:  27  | Loss:  1.9497846318408847\n",
      "Epoch:  28  | Loss:  1.2583004628540948\n",
      "Epoch:  29  | Loss:  1.037597884540446\n",
      "Epoch:  30  | Loss:  1.737002372625284\n",
      "Epoch:  31  | Loss:  2.938598509179428\n",
      "Epoch:  32  | Loss:  0.8479166682227515\n",
      "Epoch:  33  | Loss:  1.3549665362224914\n",
      "Epoch:  34  | Loss:  1.3441507810202893\n",
      "Epoch:  35  | Loss:  0.9827876519993879\n",
      "Epoch:  36  | Loss:  1.2146165632002521\n",
      "Epoch:  37  | Loss:  1.1626548887579702\n",
      "Epoch:  38  | Loss:  0.7402206800179556\n",
      "Epoch:  39  | Loss:  0.7111540691403206\n",
      "Epoch:  40  | Loss:  0.6129058419901412\n",
      "Epoch:  41  | Loss:  0.47264702623942867\n",
      "Epoch:  42  | Loss:  0.47529456904157996\n",
      "Epoch:  43  | Loss:  0.6094349569757469\n",
      "Epoch:  44  | Loss:  0.4411119033466093\n",
      "Epoch:  45  | Loss:  0.32127386635693256\n",
      "Epoch:  46  | Loss:  0.49583174513827544\n",
      "Epoch:  47  | Loss:  0.35014093687641434\n",
      "Epoch:  48  | Loss:  0.37627645934117027\n",
      "Epoch:  49  | Loss:  0.713204246465466\n",
      "Epoch:  50  | Loss:  0.4024885466642445\n",
      "Epoch:  51  | Loss:  0.3769970950525021\n",
      "Epoch:  52  | Loss:  0.3215914306201739\n",
      "Epoch:  53  | Loss:  0.2638947804371128\n",
      "Epoch:  54  | Loss:  0.3242400165036088\n",
      "Epoch:  55  | Loss:  0.504662723862566\n",
      "Epoch:  56  | Loss:  0.4299210526078241\n",
      "Epoch:  57  | Loss:  0.3190008719539037\n",
      "Epoch:  58  | Loss:  0.3529249772254843\n",
      "Epoch:  59  | Loss:  0.37351782216865104\n",
      "Epoch:  60  | Loss:  0.2596048065897776\n",
      "Epoch:  61  | Loss:  0.3350939686206402\n",
      "Epoch:  62  | Loss:  0.33521844327333383\n",
      "Epoch:  63  | Loss:  0.9626137576851761\n",
      "Epoch:  64  | Loss:  1.1304738430480938\n",
      "Epoch:  65  | Loss:  0.4146653777861502\n",
      "Epoch:  66  | Loss:  0.4776816044613952\n",
      "Epoch:  67  | Loss:  0.3516695129801519\n",
      "Epoch:  68  | Loss:  0.7488585697719827\n",
      "Epoch:  69  | Loss:  0.34484010108280927\n",
      "Epoch:  70  | Loss:  0.29729077595402487\n",
      "Epoch:  71  | Loss:  0.2670200146676507\n",
      "Epoch:  72  | Loss:  0.22671070134674665\n",
      "Epoch:  73  | Loss:  0.8256464657606557\n",
      "Epoch:  74  | Loss:  0.3700893385830568\n"
     ]
    }
   ],
   "source": [
    "model = torch.hub.load('pytorch/vision:v0.10.0', 'resnet18', pretrained=False).to(device)\n",
    "criterion = torch.nn.CrossEntropyLoss().to(device)\n",
    "optimizer = optim.SGD(model.parameters(), lr=0.001, momentum=0.9)\n",
    "train_loss, train_best_model_params = train(train_dataloader)"
   ]
  },
  {
   "cell_type": "code",
   "execution_count": 397,
   "metadata": {},
   "outputs": [
    {
     "name": "stderr",
     "output_type": "stream",
     "text": [
      "Using cache found in C:\\Users\\oconn/.cache\\torch\\hub\\pytorch_vision_v0.10.0\n"
     ]
    },
    {
     "name": "stdout",
     "output_type": "stream",
     "text": [
      "Epoch:  0  | Loss:  261.95011138916016\n",
      "Epoch:  1  | Loss:  107.20011305809021\n",
      "Epoch:  2  | Loss:  63.38757801055908\n",
      "Epoch:  3  | Loss:  45.45599123835564\n",
      "Epoch:  4  | Loss:  32.495657712221146\n",
      "Epoch:  5  | Loss:  25.757837504148483\n",
      "Epoch:  6  | Loss:  19.974601298570633\n",
      "Epoch:  7  | Loss:  16.682164661586285\n",
      "Epoch:  8  | Loss:  14.441241890192032\n",
      "Epoch:  9  | Loss:  12.901200667023659\n",
      "Epoch:  10  | Loss:  10.76325536519289\n",
      "Epoch:  11  | Loss:  9.880478128790855\n",
      "Epoch:  12  | Loss:  8.56034554168582\n",
      "Epoch:  13  | Loss:  8.495194870978594\n",
      "Epoch:  14  | Loss:  6.366763241589069\n",
      "Epoch:  15  | Loss:  6.9258134961128235\n",
      "Epoch:  16  | Loss:  6.482671577483416\n",
      "Epoch:  17  | Loss:  5.789141051471233\n",
      "Epoch:  18  | Loss:  5.024998625740409\n",
      "Epoch:  19  | Loss:  4.717899454757571\n",
      "Epoch:  20  | Loss:  3.8155474551022053\n",
      "Epoch:  21  | Loss:  3.1199238635599613\n",
      "Epoch:  22  | Loss:  3.354066614061594\n",
      "Epoch:  23  | Loss:  3.480964694172144\n",
      "Epoch:  24  | Loss:  2.4009528756141663\n",
      "Epoch:  25  | Loss:  3.766582705080509\n",
      "Epoch:  26  | Loss:  2.4689867682754993\n",
      "Epoch:  27  | Loss:  2.6719592809677124\n",
      "Epoch:  28  | Loss:  2.035100449807942\n",
      "Epoch:  29  | Loss:  2.2394446935504675\n",
      "Epoch:  30  | Loss:  1.8148334510624409\n",
      "Epoch:  31  | Loss:  2.131206816062331\n",
      "Epoch:  32  | Loss:  2.110290209762752\n",
      "Epoch:  33  | Loss:  1.918569555040449\n",
      "Epoch:  34  | Loss:  1.3180228066630661\n",
      "Epoch:  35  | Loss:  1.214483411051333\n",
      "Epoch:  36  | Loss:  1.7518834117799997\n",
      "Epoch:  37  | Loss:  1.4387058983556926\n",
      "Epoch:  38  | Loss:  1.6015928438864648\n",
      "Epoch:  39  | Loss:  2.2461432912386954\n",
      "Epoch:  40  | Loss:  1.6312946151010692\n",
      "Epoch:  41  | Loss:  1.6502543217502534\n",
      "Epoch:  42  | Loss:  1.1187419472262263\n",
      "Epoch:  43  | Loss:  1.5967217572033405\n",
      "Epoch:  44  | Loss:  1.459442833904177\n",
      "Epoch:  45  | Loss:  1.0321300677023828\n",
      "Epoch:  46  | Loss:  0.8027187909465283\n",
      "Epoch:  47  | Loss:  0.6894111197907478\n",
      "Epoch:  48  | Loss:  0.9225792703218758\n",
      "Epoch:  49  | Loss:  1.0750086242333055\n",
      "Epoch:  50  | Loss:  0.9800888360477984\n",
      "Epoch:  51  | Loss:  0.49541896558366716\n",
      "Epoch:  52  | Loss:  0.9469518249388784\n",
      "Epoch:  53  | Loss:  0.7124458861071616\n",
      "Epoch:  54  | Loss:  0.6205922458320856\n",
      "Epoch:  55  | Loss:  0.5924536101520061\n",
      "Epoch:  56  | Loss:  0.5063731374684721\n",
      "Epoch:  57  | Loss:  1.0245824849698693\n",
      "Epoch:  58  | Loss:  0.714622369967401\n",
      "Epoch:  59  | Loss:  0.5250631443923339\n",
      "Epoch:  60  | Loss:  0.5880012642592192\n",
      "Epoch:  61  | Loss:  0.5228339936584234\n",
      "Epoch:  62  | Loss:  0.5037473241100088\n",
      "Epoch:  63  | Loss:  0.4993917872197926\n",
      "Epoch:  64  | Loss:  0.5189650661777705\n",
      "Epoch:  65  | Loss:  0.4407123464625329\n",
      "Epoch:  66  | Loss:  0.4966010479256511\n",
      "Epoch:  67  | Loss:  0.4556046633515507\n",
      "Epoch:  68  | Loss:  0.7369431320112199\n",
      "Epoch:  69  | Loss:  0.7731915755430236\n",
      "Epoch:  70  | Loss:  0.5323203940642998\n",
      "Epoch:  71  | Loss:  0.5077907226514071\n",
      "Epoch:  72  | Loss:  0.4469809940783307\n",
      "Epoch:  73  | Loss:  0.5106512871570885\n",
      "Epoch:  74  | Loss:  0.6469449623255059\n"
     ]
    }
   ],
   "source": [
    "model = torch.hub.load('pytorch/vision:v0.10.0', 'resnet18', pretrained=False).to(device)\n",
    "criterion = torch.nn.CrossEntropyLoss().to(device)\n",
    "optimizer = optim.SGD(model.parameters(), lr=0.001, momentum=0.9)\n",
    "small_train_loss, small_train_best_model_params = train(small_train_dataloader)\n"
   ]
  },
  {
   "cell_type": "code",
   "execution_count": 398,
   "metadata": {},
   "outputs": [
    {
     "name": "stderr",
     "output_type": "stream",
     "text": [
      "Using cache found in C:\\Users\\oconn/.cache\\torch\\hub\\pytorch_vision_v0.10.0\n"
     ]
    },
    {
     "name": "stdout",
     "output_type": "stream",
     "text": [
      "Epoch:  0  | Loss:  509.64490526914597\n",
      "Epoch:  1  | Loss:  117.71055769920349\n",
      "Epoch:  2  | Loss:  65.40065556019545\n",
      "Epoch:  3  | Loss:  42.683399103581905\n",
      "Epoch:  4  | Loss:  29.226392440497875\n",
      "Epoch:  5  | Loss:  20.581291873008013\n",
      "Epoch:  6  | Loss:  17.20892868563533\n",
      "Epoch:  7  | Loss:  12.327667383477092\n",
      "Epoch:  8  | Loss:  10.635746570304036\n",
      "Epoch:  9  | Loss:  9.844787611160427\n",
      "Epoch:  10  | Loss:  8.055647638626397\n",
      "Epoch:  11  | Loss:  6.737330038100481\n",
      "Epoch:  12  | Loss:  5.929013222688809\n",
      "Epoch:  13  | Loss:  4.91585251595825\n",
      "Epoch:  14  | Loss:  5.043269578367472\n",
      "Epoch:  15  | Loss:  4.1708700633607805\n",
      "Epoch:  16  | Loss:  4.373790916055441\n",
      "Epoch:  17  | Loss:  5.058911399450153\n",
      "Epoch:  18  | Loss:  3.749553083558567\n",
      "Epoch:  19  | Loss:  3.3069638444576412\n",
      "Epoch:  20  | Loss:  2.1874085913877934\n",
      "Epoch:  21  | Loss:  2.4506124393083155\n",
      "Epoch:  22  | Loss:  2.676160897128284\n",
      "Epoch:  23  | Loss:  2.4601197418523952\n",
      "Epoch:  24  | Loss:  2.56021357816644\n",
      "Epoch:  25  | Loss:  3.772808628506027\n",
      "Epoch:  26  | Loss:  1.3841911957133561\n",
      "Epoch:  27  | Loss:  2.0805575533304363\n",
      "Epoch:  28  | Loss:  2.547121944022365\n",
      "Epoch:  29  | Loss:  1.4626102361362427\n",
      "Epoch:  30  | Loss:  1.625852118828334\n",
      "Epoch:  31  | Loss:  1.5549677139497362\n",
      "Epoch:  32  | Loss:  1.0527807765756734\n",
      "Epoch:  33  | Loss:  1.2432889433694072\n",
      "Epoch:  34  | Loss:  0.8542599561042152\n",
      "Epoch:  35  | Loss:  0.968200989998877\n",
      "Epoch:  36  | Loss:  0.9741023951210082\n",
      "Epoch:  37  | Loss:  0.9955936237820424\n",
      "Epoch:  38  | Loss:  0.9571995495643932\n",
      "Epoch:  39  | Loss:  1.698646906617796\n",
      "Epoch:  40  | Loss:  1.1271552982507274\n",
      "Epoch:  41  | Loss:  1.68886255659163\n",
      "Epoch:  42  | Loss:  1.0578851814498194\n",
      "Epoch:  43  | Loss:  0.6842245904845186\n",
      "Epoch:  44  | Loss:  0.8473765875387471\n",
      "Epoch:  45  | Loss:  1.107506691798335\n",
      "Epoch:  46  | Loss:  0.6829103236377705\n",
      "Epoch:  47  | Loss:  1.065631885867333\n",
      "Epoch:  48  | Loss:  1.1333071000990458\n",
      "Epoch:  49  | Loss:  0.8167979323479813\n",
      "Epoch:  50  | Loss:  0.4612961104721762\n",
      "Epoch:  51  | Loss:  0.5340812513313722\n",
      "Epoch:  52  | Loss:  0.5251715492340736\n",
      "Epoch:  53  | Loss:  0.6127913932141382\n",
      "Epoch:  54  | Loss:  0.5979089615138946\n",
      "Epoch:  55  | Loss:  0.8298960065585561\n",
      "Epoch:  56  | Loss:  0.4680367921537254\n",
      "Epoch:  57  | Loss:  0.727122249052627\n",
      "Epoch:  58  | Loss:  0.6576977835793514\n",
      "Epoch:  59  | Loss:  1.157785039045848\n",
      "Epoch:  60  | Loss:  1.3273544018738903\n",
      "Epoch:  61  | Loss:  0.49490241322200745\n",
      "Epoch:  62  | Loss:  0.6042638313083444\n",
      "Epoch:  63  | Loss:  0.386060019955039\n",
      "Epoch:  64  | Loss:  0.5046689877344761\n",
      "Epoch:  65  | Loss:  0.43254553733277135\n",
      "Epoch:  66  | Loss:  0.6181832861911971\n",
      "Epoch:  67  | Loss:  0.5631749091262463\n",
      "Epoch:  68  | Loss:  0.7550511598528828\n",
      "Epoch:  69  | Loss:  0.31818919912620913\n",
      "Epoch:  70  | Loss:  0.6117822692613117\n",
      "Epoch:  71  | Loss:  0.36977526476403\n",
      "Epoch:  72  | Loss:  0.2726829244638793\n",
      "Epoch:  73  | Loss:  0.4733103227626998\n",
      "Epoch:  74  | Loss:  0.29705653876590077\n"
     ]
    }
   ],
   "source": [
    "model = torch.hub.load('pytorch/vision:v0.10.0', 'resnet18', pretrained=False).to(device)\n",
    "criterion = torch.nn.CrossEntropyLoss().to(device)\n",
    "optimizer = optim.SGD(model.parameters(), lr=0.001, momentum=0.9)\n",
    "augmented_train_loss, augmented_train_best_model_params = train(augmented_train_dataloader)\n"
   ]
  },
  {
   "cell_type": "code",
   "execution_count": 399,
   "metadata": {},
   "outputs": [
    {
     "name": "stderr",
     "output_type": "stream",
     "text": [
      "Using cache found in C:\\Users\\oconn/.cache\\torch\\hub\\pytorch_vision_v0.10.0\n"
     ]
    },
    {
     "name": "stdout",
     "output_type": "stream",
     "text": [
      "Epoch:  0  | Loss:  261.4126019477844\n",
      "Epoch:  1  | Loss:  106.41803538799286\n",
      "Epoch:  2  | Loss:  66.06974184513092\n",
      "Epoch:  3  | Loss:  46.71413192152977\n",
      "Epoch:  4  | Loss:  36.035849899053574\n",
      "Epoch:  5  | Loss:  27.95126384496689\n",
      "Epoch:  6  | Loss:  24.263866379857063\n",
      "Epoch:  7  | Loss:  19.56801664829254\n",
      "Epoch:  8  | Loss:  17.18802861869335\n",
      "Epoch:  9  | Loss:  15.588004559278488\n",
      "Epoch:  10  | Loss:  12.365839064121246\n",
      "Epoch:  11  | Loss:  12.420724518597126\n",
      "Epoch:  12  | Loss:  9.85612179338932\n",
      "Epoch:  13  | Loss:  10.305490601807833\n",
      "Epoch:  14  | Loss:  8.792521838098764\n",
      "Epoch:  15  | Loss:  7.9427895955741405\n",
      "Epoch:  16  | Loss:  6.838232886046171\n",
      "Epoch:  17  | Loss:  6.3895356096327305\n",
      "Epoch:  18  | Loss:  5.947631701827049\n",
      "Epoch:  19  | Loss:  5.122634448111057\n",
      "Epoch:  20  | Loss:  5.0263375993818045\n",
      "Epoch:  21  | Loss:  5.621654629707336\n",
      "Epoch:  22  | Loss:  5.010498845949769\n",
      "Epoch:  23  | Loss:  3.4083506613969803\n",
      "Epoch:  24  | Loss:  3.5032024793326855\n",
      "Epoch:  25  | Loss:  3.743808262050152\n",
      "Epoch:  26  | Loss:  2.7734646229073405\n",
      "Epoch:  27  | Loss:  2.908775738440454\n",
      "Epoch:  28  | Loss:  2.4907950591295958\n",
      "Epoch:  29  | Loss:  3.7651881352066994\n",
      "Epoch:  30  | Loss:  3.6737746614962816\n",
      "Epoch:  31  | Loss:  3.211150072515011\n",
      "Epoch:  32  | Loss:  2.1013797260820866\n",
      "Epoch:  33  | Loss:  1.9809725880622864\n",
      "Epoch:  34  | Loss:  2.226530087646097\n",
      "Epoch:  35  | Loss:  2.7565544862300158\n",
      "Epoch:  36  | Loss:  1.8682323615066707\n",
      "Epoch:  37  | Loss:  1.8296633241698146\n",
      "Epoch:  38  | Loss:  1.4881742834113538\n",
      "Epoch:  39  | Loss:  1.5828659841790795\n",
      "Epoch:  40  | Loss:  2.064757210202515\n",
      "Epoch:  41  | Loss:  1.5781667628325522\n",
      "Epoch:  42  | Loss:  1.3930603158660233\n",
      "Epoch:  43  | Loss:  1.267034342046827\n",
      "Epoch:  44  | Loss:  1.6504278294742107\n",
      "Epoch:  45  | Loss:  1.475371983833611\n",
      "Epoch:  46  | Loss:  1.230403465218842\n",
      "Epoch:  47  | Loss:  1.3162840674631298\n",
      "Epoch:  48  | Loss:  1.4683326175436378\n",
      "Epoch:  49  | Loss:  1.0200807196088135\n",
      "Epoch:  50  | Loss:  1.1302835301030427\n",
      "Epoch:  51  | Loss:  1.299881778191775\n",
      "Epoch:  52  | Loss:  1.166662550298497\n",
      "Epoch:  53  | Loss:  1.064281786326319\n",
      "Epoch:  54  | Loss:  1.1665873797610402\n",
      "Epoch:  55  | Loss:  0.8839830397628248\n",
      "Epoch:  56  | Loss:  1.119532771408558\n",
      "Epoch:  57  | Loss:  0.9946658436674625\n",
      "Epoch:  58  | Loss:  0.7364085917361081\n",
      "Epoch:  59  | Loss:  0.8146135138813406\n",
      "Epoch:  60  | Loss:  0.7372155881021172\n",
      "Epoch:  61  | Loss:  0.8583235023543239\n",
      "Epoch:  62  | Loss:  0.8777746337000281\n",
      "Epoch:  63  | Loss:  0.6898494125343859\n",
      "Epoch:  64  | Loss:  0.7700616037473083\n",
      "Epoch:  65  | Loss:  0.6532200479414314\n",
      "Epoch:  66  | Loss:  0.7902790582738817\n",
      "Epoch:  67  | Loss:  0.6028282698243856\n",
      "Epoch:  68  | Loss:  0.5367703147931024\n",
      "Epoch:  69  | Loss:  0.5404233715962619\n",
      "Epoch:  70  | Loss:  0.6456967880949378\n",
      "Epoch:  71  | Loss:  0.6460721935145557\n",
      "Epoch:  72  | Loss:  0.6317359854001552\n",
      "Epoch:  73  | Loss:  0.49357907951343805\n",
      "Epoch:  74  | Loss:  0.5049656330375001\n"
     ]
    }
   ],
   "source": [
    "model = torch.hub.load('pytorch/vision:v0.10.0', 'resnet18', pretrained=False).to(device)\n",
    "criterion = torch.nn.CrossEntropyLoss().to(device)\n",
    "optimizer = optim.SGD(model.parameters(), lr=0.001, momentum=0.9)\n",
    "augmented_small_train_loss, augmented_small_train_best_model_params = train(augmented_small_train_dataloader)\n"
   ]
  },
  {
   "cell_type": "code",
   "execution_count": 456,
   "metadata": {},
   "outputs": [
    {
     "name": "stderr",
     "output_type": "stream",
     "text": [
      "Using cache found in C:\\Users\\oconn/.cache\\torch\\hub\\pytorch_vision_v0.10.0\n"
     ]
    },
    {
     "name": "stdout",
     "output_type": "stream",
     "text": [
      "Epoch:  0  | Loss:  518.4109676480293\n",
      "Epoch:  1  | Loss:  133.62958776950836\n",
      "Epoch:  2  | Loss:  74.29846850037575\n",
      "Epoch:  3  | Loss:  51.439963672310114\n",
      "Epoch:  4  | Loss:  35.618765007704496\n",
      "Epoch:  5  | Loss:  29.22266747802496\n",
      "Epoch:  6  | Loss:  23.60467421449721\n",
      "Epoch:  7  | Loss:  21.06103333737701\n",
      "Epoch:  8  | Loss:  18.842680206522346\n",
      "Epoch:  9  | Loss:  12.407422143034637\n",
      "Epoch:  10  | Loss:  10.870121181476861\n",
      "Epoch:  11  | Loss:  10.137611941900104\n",
      "Epoch:  12  | Loss:  8.978055921848863\n",
      "Epoch:  13  | Loss:  8.746271064737812\n",
      "Epoch:  14  | Loss:  7.169279389781877\n",
      "Epoch:  15  | Loss:  6.090625285636634\n",
      "Epoch:  16  | Loss:  4.903171147219837\n",
      "Epoch:  17  | Loss:  4.58063826430589\n",
      "Epoch:  18  | Loss:  4.779321068432182\n",
      "Epoch:  19  | Loss:  4.536741711199284\n",
      "Epoch:  20  | Loss:  3.625286879716441\n",
      "Epoch:  21  | Loss:  5.077824308536947\n",
      "Epoch:  22  | Loss:  4.120789061882533\n",
      "Epoch:  23  | Loss:  3.2247490148292854\n",
      "Epoch:  24  | Loss:  2.2814696601126343\n",
      "Epoch:  25  | Loss:  3.3441351384390146\n",
      "Epoch:  26  | Loss:  1.9994098357274197\n",
      "Epoch:  27  | Loss:  3.9427040736190975\n",
      "Epoch:  28  | Loss:  2.5198083899449557\n",
      "Epoch:  29  | Loss:  3.6864154868526384\n",
      "Epoch:  30  | Loss:  2.0261865372303873\n",
      "Epoch:  31  | Loss:  2.1163935677614063\n",
      "Epoch:  32  | Loss:  3.0945737255970016\n",
      "Epoch:  33  | Loss:  2.263539509032853\n",
      "Epoch:  34  | Loss:  2.4482164123328403\n",
      "Epoch:  35  | Loss:  2.0261527138063684\n",
      "Epoch:  36  | Loss:  2.6537885589059442\n",
      "Epoch:  37  | Loss:  1.2410316710593179\n",
      "Epoch:  38  | Loss:  1.8394152218243107\n",
      "Epoch:  39  | Loss:  2.0522019467898645\n",
      "Epoch:  40  | Loss:  1.692567876423709\n",
      "Epoch:  41  | Loss:  1.3573841821635142\n",
      "Epoch:  42  | Loss:  1.1846630236250348\n",
      "Epoch:  43  | Loss:  1.4792950148985256\n",
      "Epoch:  44  | Loss:  1.1782191560487263\n",
      "Epoch:  45  | Loss:  0.9217003941885196\n",
      "Epoch:  46  | Loss:  1.4453938720107544\n",
      "Epoch:  47  | Loss:  0.7339436437760014\n",
      "Epoch:  48  | Loss:  2.133681089937454\n",
      "Epoch:  49  | Loss:  1.0863091470964719\n",
      "Epoch:  50  | Loss:  1.6156968857394531\n",
      "Epoch:  51  | Loss:  1.346153103193501\n",
      "Epoch:  52  | Loss:  1.1189913148409687\n",
      "Epoch:  53  | Loss:  0.6800629821955226\n",
      "Epoch:  54  | Loss:  0.6405123284494039\n",
      "Epoch:  55  | Loss:  0.9198005181387998\n",
      "Epoch:  56  | Loss:  0.9084901210444514\n",
      "Epoch:  57  | Loss:  1.4357054943975527\n",
      "Epoch:  58  | Loss:  0.7932608877890743\n",
      "Epoch:  59  | Loss:  0.8415967577457195\n",
      "Epoch:  60  | Loss:  1.1913826825038996\n",
      "Epoch:  61  | Loss:  2.9145428243791685\n",
      "Epoch:  62  | Loss:  1.9346457052452024\n",
      "Epoch:  63  | Loss:  0.8119908873486565\n",
      "Epoch:  64  | Loss:  0.589196008440922\n",
      "Epoch:  65  | Loss:  0.647863152626087\n",
      "Epoch:  66  | Loss:  1.4400030720571522\n",
      "Epoch:  67  | Loss:  1.249981599044986\n",
      "Epoch:  68  | Loss:  1.2627022716915235\n",
      "Epoch:  69  | Loss:  1.2865953255968634\n",
      "Epoch:  70  | Loss:  1.313788317682338\n",
      "Epoch:  71  | Loss:  1.0096833280549617\n",
      "Epoch:  72  | Loss:  1.361549418506911\n",
      "Epoch:  73  | Loss:  1.6106588502880186\n",
      "Epoch:  74  | Loss:  1.3812122313393047\n"
     ]
    }
   ],
   "source": [
    "model = torch.hub.load('pytorch/vision:v0.10.0', 'resnet18', pretrained=False).to(device)\n",
    "criterion = torch.nn.CrossEntropyLoss().to(device)\n",
    "optimizer = optim.SGD(model.parameters(), lr=0.001, momentum=0.9)\n",
    "cropped_train_loss, cropped_train_best_model_params = train(cropped_train_dataloader)\n"
   ]
  },
  {
   "cell_type": "code",
   "execution_count": 457,
   "metadata": {},
   "outputs": [
    {
     "name": "stderr",
     "output_type": "stream",
     "text": [
      "Using cache found in C:\\Users\\oconn/.cache\\torch\\hub\\pytorch_vision_v0.10.0\n"
     ]
    },
    {
     "name": "stdout",
     "output_type": "stream",
     "text": [
      "Epoch:  0  | Loss:  278.5002419948578\n",
      "Epoch:  1  | Loss:  120.76242756843567\n",
      "Epoch:  2  | Loss:  76.98577439785004\n",
      "Epoch:  3  | Loss:  56.03018820285797\n",
      "Epoch:  4  | Loss:  42.67465189099312\n",
      "Epoch:  5  | Loss:  33.356380343437195\n",
      "Epoch:  6  | Loss:  28.39146476984024\n",
      "Epoch:  7  | Loss:  24.667401775717735\n",
      "Epoch:  8  | Loss:  21.65972764790058\n",
      "Epoch:  9  | Loss:  18.885356605052948\n",
      "Epoch:  10  | Loss:  17.424022138118744\n",
      "Epoch:  11  | Loss:  16.38384783267975\n",
      "Epoch:  12  | Loss:  13.671546384692192\n",
      "Epoch:  13  | Loss:  12.287816137075424\n",
      "Epoch:  14  | Loss:  10.450960628688335\n",
      "Epoch:  15  | Loss:  9.687071591615677\n",
      "Epoch:  16  | Loss:  10.238871928304434\n",
      "Epoch:  17  | Loss:  10.535941690206528\n",
      "Epoch:  18  | Loss:  8.820860773324966\n",
      "Epoch:  19  | Loss:  8.092705726623535\n",
      "Epoch:  20  | Loss:  7.276265762746334\n",
      "Epoch:  21  | Loss:  7.033422648906708\n",
      "Epoch:  22  | Loss:  6.04825658723712\n",
      "Epoch:  23  | Loss:  6.576478738337755\n",
      "Epoch:  24  | Loss:  6.519941881299019\n",
      "Epoch:  25  | Loss:  5.449555933475494\n",
      "Epoch:  26  | Loss:  4.966938273981214\n",
      "Epoch:  27  | Loss:  4.557452080771327\n",
      "Epoch:  28  | Loss:  5.88672012463212\n",
      "Epoch:  29  | Loss:  5.637893181294203\n",
      "Epoch:  30  | Loss:  5.455348618328571\n",
      "Epoch:  31  | Loss:  4.151226999238133\n",
      "Epoch:  32  | Loss:  3.6005087699741125\n",
      "Epoch:  33  | Loss:  3.8093019407242537\n",
      "Epoch:  34  | Loss:  3.0265112575143576\n",
      "Epoch:  35  | Loss:  3.27198495157063\n",
      "Epoch:  36  | Loss:  3.0326357567682862\n",
      "Epoch:  37  | Loss:  3.4426143718883395\n",
      "Epoch:  38  | Loss:  2.6089243944734335\n",
      "Epoch:  39  | Loss:  2.3240901776589453\n",
      "Epoch:  40  | Loss:  2.837525081820786\n",
      "Epoch:  41  | Loss:  2.7122023971751332\n",
      "Epoch:  42  | Loss:  2.602675669826567\n",
      "Epoch:  43  | Loss:  2.870317120105028\n",
      "Epoch:  44  | Loss:  2.483528181910515\n",
      "Epoch:  45  | Loss:  2.4672605469822884\n",
      "Epoch:  46  | Loss:  2.1973129613325\n",
      "Epoch:  47  | Loss:  2.204362018033862\n",
      "Epoch:  48  | Loss:  2.105139090679586\n",
      "Epoch:  49  | Loss:  2.0824541081674397\n",
      "Epoch:  50  | Loss:  2.10086362878792\n",
      "Epoch:  51  | Loss:  1.847710839472711\n",
      "Epoch:  52  | Loss:  1.8734198878519237\n",
      "Epoch:  53  | Loss:  1.8207595092244446\n",
      "Epoch:  54  | Loss:  1.326779318973422\n",
      "Epoch:  55  | Loss:  1.560175619320944\n",
      "Epoch:  56  | Loss:  1.3028936055488884\n",
      "Epoch:  57  | Loss:  2.4405425381846726\n",
      "Epoch:  58  | Loss:  1.6763470312580466\n",
      "Epoch:  59  | Loss:  1.4735032147727907\n",
      "Epoch:  60  | Loss:  1.5989383072592318\n",
      "Epoch:  61  | Loss:  1.315001233946532\n",
      "Epoch:  62  | Loss:  1.648520801216364\n",
      "Epoch:  63  | Loss:  1.3597317091189325\n",
      "Epoch:  64  | Loss:  1.4863232835195959\n",
      "Epoch:  65  | Loss:  2.6707095839083195\n",
      "Epoch:  66  | Loss:  1.3046151311136782\n",
      "Epoch:  67  | Loss:  1.3270694732200354\n",
      "Epoch:  68  | Loss:  0.9138322693761438\n",
      "Epoch:  69  | Loss:  1.3978371776174754\n",
      "Epoch:  70  | Loss:  1.384624547790736\n",
      "Epoch:  71  | Loss:  1.133794366614893\n",
      "Epoch:  72  | Loss:  1.23955032043159\n",
      "Epoch:  73  | Loss:  1.0545300922822207\n",
      "Epoch:  74  | Loss:  1.1675333965104073\n"
     ]
    }
   ],
   "source": [
    "model = torch.hub.load('pytorch/vision:v0.10.0', 'resnet18', pretrained=False).to(device)\n",
    "criterion = torch.nn.CrossEntropyLoss().to(device)\n",
    "optimizer = optim.SGD(model.parameters(), lr=0.001, momentum=0.9)\n",
    "cropped_small_train_loss, cropped_small_train_best_model_params = train(cropped_small_train_dataloader)"
   ]
  },
  {
   "cell_type": "code",
   "execution_count": 458,
   "metadata": {},
   "outputs": [],
   "source": [
    "torch.save(cropped_train_best_model_params, \"cropped_train_model.pt\")\n",
    "torch.save(cropped_small_train_best_model_params, \"cropped_small_train_model.pt\")"
   ]
  },
  {
   "cell_type": "code",
   "execution_count": 400,
   "metadata": {},
   "outputs": [],
   "source": [
    "torch.save(train_best_model_params, \"train_model.pt\")\n",
    "torch.save(small_train_best_model_params, \"small_train_model.pt\")\n",
    "torch.save(augmented_train_best_model_params, \"augmented_train_model.pt\")\n",
    "torch.save(augmented_small_train_best_model_params, \"augmented_small_train_model.pt\")"
   ]
  },
  {
   "cell_type": "code",
   "execution_count": 407,
   "metadata": {},
   "outputs": [
    {
     "data": {
      "image/png": "[encoded data removed]",
      "text/plain": [
       "<Figure size 432x288 with 1 Axes>"
      ]
     },
     "metadata": {
      "needs_background": "light"
     },
     "output_type": "display_data"
    },
    {
     "data": {
      "image/png": "[encoded data removed]",
      "text/plain": [
       "<Figure size 432x288 with 1 Axes>"
      ]
     },
     "metadata": {
      "needs_background": "light"
     },
     "output_type": "display_data"
    },
    {
     "data": {
      "image/png": "[encoded data removed]",
      "text/plain": [
       "<Figure size 432x288 with 1 Axes>"
      ]
     },
     "metadata": {
      "needs_background": "light"
     },
     "output_type": "display_data"
    },
    {
     "data": {
      "image/png": "[encoded data removed]",
      "text/plain": [
       "<Figure size 432x288 with 1 Axes>"
      ]
     },
     "metadata": {
      "needs_background": "light"
     },
     "output_type": "display_data"
    }
   ],
   "source": [
    "epoch_axis = np.linspace(0, 74, 75)\n",
    "\n",
    "train_fig = plt.figure()\n",
    "plt.plot(epoch_axis, train_loss)\n",
    "plt.title(\"Large dataset training loss\")\n",
    "plt.xlabel(\"Epochs\")\n",
    "plt.ylabel(\"Loss\")\n",
    "plt.show()\n",
    "\n",
    "small_train_fig = plt.figure()\n",
    "plt.plot(epoch_axis, small_train_loss)\n",
    "plt.title(\"Small dataset training loss\")\n",
    "plt.xlabel(\"Epochs\")\n",
    "plt.ylabel(\"Loss\")\n",
    "plt.show()\n",
    "\n",
    "augmented_train_fig = plt.figure()\n",
    "plt.plot(epoch_axis, augmented_train_loss)\n",
    "plt.title(\"Large dataset training loss with augmented data\")\n",
    "plt.xlabel(\"Epochs\")\n",
    "plt.ylabel(\"Loss\")\n",
    "plt.show()\n",
    "\n",
    "augmented_small_train_fig = plt.figure()\n",
    "plt.plot(epoch_axis, augmented_small_train_loss)\n",
    "plt.title(\"Small dataset training loss with augmented data\")\n",
    "plt.xlabel(\"Epochs\")\n",
    "plt.ylabel(\"Loss\")\n",
    "plt.show()"
   ]
  },
  {
   "cell_type": "code",
   "execution_count": 459,
   "metadata": {},
   "outputs": [
    {
     "data": {
      "image/png": "[encoded data removed]",
      "text/plain": [
       "<Figure size 432x288 with 1 Axes>"
      ]
     },
     "metadata": {
      "needs_background": "light"
     },
     "output_type": "display_data"
    },
    {
     "data": {
      "image/png": "[encoded data removed]",
      "text/plain": [
       "<Figure size 432x288 with 1 Axes>"
      ]
     },
     "metadata": {
      "needs_background": "light"
     },
     "output_type": "display_data"
    }
   ],
   "source": [
    "cropped_train_fig = plt.figure()\n",
    "plt.plot(epoch_axis, cropped_train_loss)\n",
    "plt.title(\"Large dataset training loss with randomly cropped data\")\n",
    "plt.xlabel(\"Epochs\")\n",
    "plt.ylabel(\"Loss\")\n",
    "plt.show()\n",
    "\n",
    "cropped_small_train_fig = plt.figure()\n",
    "plt.plot(epoch_axis, cropped_small_train_loss)\n",
    "plt.title(\"Small dataset training loss with randomly cropped data\")\n",
    "plt.xlabel(\"Epochs\")\n",
    "plt.ylabel(\"Loss\")\n",
    "plt.show()\n"
   ]
  },
  {
   "cell_type": "code",
   "execution_count": 413,
   "metadata": {},
   "outputs": [],
   "source": [
    "def evaluate(test_loader, net):\n",
    "    net.to(device)\n",
    "    net.eval()\n",
    "    correct = 0\n",
    "    total = 0\n",
    "    for idx, (data, labels) in enumerate(test_loader):\n",
    "        outputs = net(data.to(device))\n",
    "\n",
    "        # probabilities = torch.nn.functional.softmax(outputs[0], dim=0)\n",
    "        _, predicted = torch.max(outputs.data, 1)\n",
    "        labels = np.array(labels, dtype=int)\n",
    "        labels = torch.Tensor(labels).long().to(device)\n",
    "        total += labels.shape[0]\n",
    "        # print(predicted)\n",
    "        # print(labels)\n",
    "        correct += (predicted == labels).sum().item()\n",
    "\n",
    "    accuracy = correct / total\n",
    "\n",
    "    return accuracy\n",
    "        \n"
   ]
  },
  {
   "cell_type": "code",
   "execution_count": 410,
   "metadata": {},
   "outputs": [
    {
     "name": "stderr",
     "output_type": "stream",
     "text": [
      "Using cache found in C:\\Users\\oconn/.cache\\torch\\hub\\pytorch_vision_v0.10.0\n",
      "Using cache found in C:\\Users\\oconn/.cache\\torch\\hub\\pytorch_vision_v0.10.0\n",
      "Using cache found in C:\\Users\\oconn/.cache\\torch\\hub\\pytorch_vision_v0.10.0\n",
      "Using cache found in C:\\Users\\oconn/.cache\\torch\\hub\\pytorch_vision_v0.10.0\n"
     ]
    },
    {
     "data": {
      "text/plain": [
       "<All keys matched successfully>"
      ]
     },
     "execution_count": 410,
     "metadata": {},
     "output_type": "execute_result"
    }
   ],
   "source": [
    "large_trained_model = torch.hub.load('pytorch/vision:v0.10.0', 'resnet18', pretrained=False).to(device)\n",
    "large_trained_model.load_state_dict(torch.load(\"train_model.pt\"))\n",
    "\n",
    "small_trained_model = torch.hub.load('pytorch/vision:v0.10.0', 'resnet18', pretrained=False).to(device)\n",
    "small_trained_model.load_state_dict(torch.load(\"small_train_model.pt\"))\n",
    "\n",
    "augmented_large_trained_model = torch.hub.load('pytorch/vision:v0.10.0', 'resnet18', pretrained=False).to(device)\n",
    "augmented_large_trained_model.load_state_dict(torch.load(\"augmented_train_model.pt\"))\n",
    "\n",
    "augmented_small_trained_model = torch.hub.load('pytorch/vision:v0.10.0', 'resnet18', pretrained=False).to(device)\n",
    "augmented_small_trained_model.load_state_dict(torch.load(\"augmented_small_train_model.pt\"))\n",
    "\n"
   ]
  },
  {
   "cell_type": "code",
   "execution_count": 460,
   "metadata": {},
   "outputs": [
    {
     "name": "stderr",
     "output_type": "stream",
     "text": [
      "Using cache found in C:\\Users\\oconn/.cache\\torch\\hub\\pytorch_vision_v0.10.0\n",
      "Using cache found in C:\\Users\\oconn/.cache\\torch\\hub\\pytorch_vision_v0.10.0\n"
     ]
    },
    {
     "data": {
      "text/plain": [
       "<All keys matched successfully>"
      ]
     },
     "execution_count": 460,
     "metadata": {},
     "output_type": "execute_result"
    }
   ],
   "source": [
    "cropped_large_trained_model = torch.hub.load('pytorch/vision:v0.10.0', 'resnet18', pretrained=False).to(device)\n",
    "cropped_large_trained_model.load_state_dict(torch.load(\"cropped_train_model.pt\"))\n",
    "\n",
    "cropped_small_trained_model = torch.hub.load('pytorch/vision:v0.10.0', 'resnet18', pretrained=False).to(device)\n",
    "cropped_small_trained_model.load_state_dict(torch.load(\"cropped_small_train_model.pt\"))\n"
   ]
  },
  {
   "cell_type": "code",
   "execution_count": 461,
   "metadata": {},
   "outputs": [
    {
     "name": "stdout",
     "output_type": "stream",
     "text": [
      "cuda\n"
     ]
    }
   ],
   "source": [
    "print(device)"
   ]
  },
  {
   "cell_type": "code",
   "execution_count": 414,
   "metadata": {},
   "outputs": [
    {
     "name": "stdout",
     "output_type": "stream",
     "text": [
      "0.9996314722682882\n",
      "0.9992629445365764\n",
      "0.43430993182236965\n",
      "0.40187949143173024\n"
     ]
    }
   ],
   "source": [
    "# validation results\n",
    "validation_large_accuracy = evaluate(validation_dataloader, large_trained_model)\n",
    "validation_small_accuracy = evaluate(validation_dataloader, small_trained_model)\n",
    "validation_augmented_large_accuracy = evaluate(validation_dataloader, augmented_large_trained_model)\n",
    "validation_augmented_small_accuracy = evaluate(validation_dataloader, augmented_small_trained_model)\n",
    "\n",
    "print(validation_large_accuracy)\n",
    "print(validation_small_accuracy)\n",
    "print(validation_augmented_large_accuracy)\n",
    "print(validation_augmented_small_accuracy)"
   ]
  },
  {
   "cell_type": "code",
   "execution_count": 415,
   "metadata": {},
   "outputs": [
    {
     "name": "stdout",
     "output_type": "stream",
     "text": [
      "0.9998157361341441\n",
      "0.9990786806707205\n",
      "0.4361525704809287\n",
      "0.40169522756587434\n"
     ]
    }
   ],
   "source": [
    "# fruit360 results\n",
    "fruit360_large_accuracy = evaluate(fruit360_test_dataloader, large_trained_model)\n",
    "fruit360_small_accuracy = evaluate(fruit360_test_dataloader, small_trained_model)\n",
    "fruit360_augmented_large_accuracy = evaluate(fruit360_test_dataloader, augmented_large_trained_model)\n",
    "fruit360_augmented_small_accuracy = evaluate(fruit360_test_dataloader, augmented_small_trained_model)\n",
    "\n",
    "print(fruit360_large_accuracy)\n",
    "print(fruit360_small_accuracy)\n",
    "print(fruit360_augmented_large_accuracy)\n",
    "print(fruit360_augmented_small_accuracy)"
   ]
  },
  {
   "cell_type": "code",
   "execution_count": 416,
   "metadata": {},
   "outputs": [
    {
     "name": "stdout",
     "output_type": "stream",
     "text": [
      "0.08462645976643737\n",
      "0.10222364421692529\n",
      "0.07854743241081427\n",
      "0.07710766277395617\n"
     ]
    }
   ],
   "source": [
    "# vegfru results\n",
    "vegfru_large_accuracy = evaluate(vegfru_test_dataloader, large_trained_model)\n",
    "vegfru_small_accuracy = evaluate(vegfru_test_dataloader, small_trained_model)\n",
    "vegfru_augmented_large_accuracy = evaluate(vegfru_test_dataloader, augmented_large_trained_model)\n",
    "vegfru_augmented_small_accuracy = evaluate(vegfru_test_dataloader, augmented_small_trained_model)\n",
    "\n",
    "print(vegfru_large_accuracy)\n",
    "print(vegfru_small_accuracy)\n",
    "print(vegfru_augmented_large_accuracy)\n",
    "print(vegfru_augmented_small_accuracy)"
   ]
  },
  {
   "cell_type": "code",
   "execution_count": 462,
   "metadata": {},
   "outputs": [
    {
     "name": "stdout",
     "output_type": "stream",
     "text": [
      "0.9996314722682882\n",
      "0.9990786806707205\n"
     ]
    }
   ],
   "source": [
    "validation_cropped_large_accuracy = evaluate(validation_dataloader, cropped_large_trained_model)\n",
    "validation_cropped_small_accuracy = evaluate(validation_dataloader, cropped_small_trained_model)\n",
    "\n",
    "print(validation_cropped_large_accuracy)\n",
    "print(validation_cropped_small_accuracy)"
   ]
  },
  {
   "cell_type": "code",
   "execution_count": 463,
   "metadata": {},
   "outputs": [
    {
     "name": "stdout",
     "output_type": "stream",
     "text": [
      "1.0\n",
      "0.9994472084024323\n"
     ]
    }
   ],
   "source": [
    "fruit360_cropped_large_accuracy = evaluate(fruit360_test_dataloader, cropped_large_trained_model)\n",
    "fruit360_cropped_small_accuracy = evaluate(fruit360_test_dataloader, cropped_small_trained_model)\n",
    "\n",
    "print(fruit360_cropped_large_accuracy)\n",
    "print(fruit360_cropped_small_accuracy)"
   ]
  },
  {
   "cell_type": "code",
   "execution_count": 464,
   "metadata": {},
   "outputs": [
    {
     "name": "stdout",
     "output_type": "stream",
     "text": [
      "0.09566469364901616\n",
      "0.08126699728043513\n"
     ]
    }
   ],
   "source": [
    "vegfru_cropped_large_accuracy = evaluate(vegfru_test_dataloader, cropped_large_trained_model)\n",
    "vegfru_cropped_small_accuracy = evaluate(vegfru_test_dataloader, cropped_small_trained_model)\n",
    "\n",
    "print(vegfru_cropped_large_accuracy)\n",
    "print(vegfru_cropped_small_accuracy)\n"
   ]
  },
  {
   "cell_type": "code",
   "execution_count": 394,
   "metadata": {},
   "outputs": [],
   "source": [
    "device = \"cuda\""
   ]
  }
 ],
 "metadata": {
  "interpreter": {
   "hash": "81794d4967e6c3204c66dcd87b604927b115b27c00565d3d43f05ba2f3a2cb0d"
  },
  "kernelspec": {
   "display_name": "Python 3.9.7 64-bit",
   "language": "python",
   "name": "python3"
  },
  "language_info": {
   "codemirror_mode": {
    "name": "ipython",
    "version": 3
   },
   "file_extension": ".py",
   "mimetype": "text/x-python",
   "name": "python",
   "nbconvert_exporter": "python",
   "pygments_lexer": "ipython3",
   "version": "3.9.7"
  },
  "orig_nbformat": 4
 },
 "nbformat": 4,
 "nbformat_minor": 2
}
